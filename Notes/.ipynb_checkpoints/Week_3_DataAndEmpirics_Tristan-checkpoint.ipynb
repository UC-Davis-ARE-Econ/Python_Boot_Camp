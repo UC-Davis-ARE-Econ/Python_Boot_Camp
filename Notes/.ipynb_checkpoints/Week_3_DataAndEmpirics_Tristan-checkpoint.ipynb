{
 "cells": [
  {
   "cell_type": "markdown",
   "metadata": {},
   "source": [
    "# Data and Empirics\n",
    "\n",
    "In today's session we will start to explore how to actually work with data in an interesting way. At least, interesting to us economists. \n",
    "\n",
    "We will start by finding some data and getting it ready to work with. Then, we will look at how to do a simple linear regression, before expanding that to multiple variables. If we have time, we will also see how to look for endogeneity and omitted variable bias and how to deal with it using two-stage least squares. \n",
    "\n",
    "First, let's start by importing the main packages we will be using:"
   ]
  },
  {
   "cell_type": "code",
   "execution_count": 14,
   "metadata": {},
   "outputs": [],
   "source": [
    "# These are the standard packages we regularly use:\n",
    "import pandas as pd\n",
    "import numpy as np\n",
    "import matplotlib.pyplot as plt\n",
    "%matplotlib inline\n",
    "\n",
    "# This package is going to give us basic econometric functions:\n",
    "import statsmodels.api as sm # This is where we will get OLS\n",
    "from statsmodels.iolib.summary2 import summary_col # This is a handy way to look at model results side-by-side\n",
    "\n",
    "# For IV, we will need to pull from another package that is not included in Anaconda, so we need to install it:\n",
    "# !pip install linearmodels\n",
    "from linearmodels.iv import IV2SLS"
   ]
  },
  {
   "cell_type": "markdown",
   "metadata": {},
   "source": [
    "Great, now let's find some data to work with. The \"textbook\" replicates a paper by Acemoglu, Johnson, and Robinson. You can find that paper [here](https://economics.mit.edu/files/4123) along with the data "
   ]
  },
  {
   "cell_type": "code",
   "execution_count": 9,
   "metadata": {},
   "outputs": [],
   "source": []
  },
  {
   "cell_type": "code",
   "execution_count": 12,
   "metadata": {},
   "outputs": [
    {
     "name": "stdout",
     "output_type": "stream",
     "text": [
      "\n",
      "\n",
      "\n",
      "\n",
      "\n",
      "website address\n",
      "\n",
      "\n",
      "\n",
      "\n",
      "\n",
      "\n",
      "\n",
      "\n",
      "\n",
      "\n",
      "\n",
      "\n",
      "\n",
      "\n",
      "\n",
      "\n",
      "\n",
      "\n",
      "\n",
      "\n",
      "\n",
      "\n",
      "\n",
      " A total of 856 producers were pooled \n",
      "under the Order with an average daily \n",
      "delivery per producer of 64,504 pounds, \n",
      "an increase of 2.1 percent from October. Pooled milk receipts totaled 1.656 billion \n",
      "pounds, a decrease of 7.3 percent from \n",
      "last month on an average daily basis. Class I usage (milk for bottling) \n",
      "accounted for 23.3 percent of total pooled \n",
      "\n",
      "milk receipts, down 2.8 percentage \n",
      "\n",
      "points from October. The average butterfat test of producer \n",
      "receipts was 3.93 percent. The average true protein test of producer \n",
      "receipts was 3.26 percent. The average other solids test of producer \n",
      "receipts was 5.74 percent. The November 2019 statistical uniform price (SUP) for the California \n",
      "Marketing Area was announced at $17.06 per hundredweight (cwt)  \n",
      "\n",
      "for milk delivered to plants located in Los Angeles County, California, \n",
      "the pricing point for the California Order. The SUP is calculated at \n",
      "3.5 percent butterfat, 2.99 percent protein, and 5.69 percent other solids. \n",
      "If reported at the average test of producer pooled milkŠ3.93 percent \n",
      "butterfat, 3.26 percent protein, and 5.74 percent other solidsŠthe \n",
      "November SUP would equate to $19.12 per cwt. The SUP at average \n",
      "component tests for November is higher than that of October by 17 cents. \n",
      "\n",
      "November™s producer price differential (PPD) at Los Angeles County \n",
      "was -$3.39 per cwt, a decrease of $1.80 per cwt from the previous month. \n",
      "Commodity product price changes from October to November were mixed. The butter price fell almost 7 cents from October™s. The \n",
      "dry whey price also fell this month, down almost 10 percent from \n",
      "October™s price. Nonfat dry milk™s value grew almost 6 cents, while \n",
      "cheese™s value jumped 20 cents, or over 10 percent. Component prices experienced considerable variation from \n",
      "October to November. Both the butterfat and other solids price fell \n",
      "in November; butterfat price dropped 8 cents, while the other solids \n",
      "price fell nearly 3 cents. Following the same growth trend as the cheese \n",
      "price, the protein price grew 74 cents. Additionally, the nonfat solids \n",
      "price increased nearly 6 cents from October to November. Component \n",
      "prices are reported on a per pound basis.Apart from the Class III price, class prices remained fairly constant in November, all observing a less than 2 percent change from the \n",
      "month of October. The Class I price rose 30 cents per cwt, while Class \n",
      "II and IV grew 17 and 21 cents, respectively. The Class III price had the \n",
      "largest change, increasing $1.73 per cwt from October to November. \n",
      "Class III was the highest of all class prices for the month of November \n",
      "(see class price factors on right column).  Since producers are paid for \n",
      "\n",
      "their milk components at the same price as the components in Class \n",
      "III (however, the value of the pool  consists of the value of milk in all \n",
      "\n",
      "classes), the amount credited in the pool for producer milk components \n",
      "exceeded the pool value, resulting in the significant negative PPD. See \n",
      "price computation on page 4.\n"
     ]
    }
   ],
   "source": []
  }
 ],
 "metadata": {
  "kernelspec": {
   "display_name": "Python 3",
   "language": "python",
   "name": "python3"
  },
  "language_info": {
   "codemirror_mode": {
    "name": "ipython",
    "version": 3
   },
   "file_extension": ".py",
   "mimetype": "text/x-python",
   "name": "python",
   "nbconvert_exporter": "python",
   "pygments_lexer": "ipython3",
   "version": "3.7.3"
  }
 },
 "nbformat": 4,
 "nbformat_minor": 2
}
