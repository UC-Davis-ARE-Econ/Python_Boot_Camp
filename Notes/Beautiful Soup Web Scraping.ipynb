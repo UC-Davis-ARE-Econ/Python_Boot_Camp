{
 "cells": [
  {
   "cell_type": "markdown",
   "metadata": {},
   "source": [
    "# Web Scraping with BeautifulSoup\n",
    "\n",
    "Let's look at how to install beautiful soup and then this will be our mission:\n",
    "\n",
    "Which presidential candidate is mentioned the most in the politics section of the NY Times? Maybe even a word cloud will be made..."
   ]
  },
  {
   "cell_type": "markdown",
   "metadata": {},
   "source": [
    "First install beautiful soup:\n",
    "\n",
    "`pip install bs4` \n",
    "\n",
    "or\n",
    "\n",
    "`conda install bs4` (probably)"
   ]
  },
  {
   "cell_type": "code",
   "execution_count": 97,
   "metadata": {
    "ExecuteTime": {
     "end_time": "2020-02-14T10:57:10.396461Z",
     "start_time": "2020-02-14T10:57:10.386892Z"
    }
   },
   "outputs": [],
   "source": [
    "from bs4 import BeautifulSoup\n",
    "\n",
    "import re ## For parsing\n",
    "\n",
    "import requests ## For getting the HTML\n",
    "\n",
    "from wordcloud import WordCloud  ## For fun\n",
    "\n",
    "import backoff\n",
    "\n",
    "import matplotlib.pyplot as plt\n",
    "\n"
   ]
  },
  {
   "cell_type": "markdown",
   "metadata": {},
   "source": [
    "### Intro to BeautifulSoup"
   ]
  },
  {
   "cell_type": "markdown",
   "metadata": {},
   "source": [
    "BeautifulSoup takes the html from webpage and turns into an object that you can work with. All the tags and classes that a webpage have become attributes in a `Soup` object."
   ]
  },
  {
   "cell_type": "code",
   "execution_count": 154,
   "metadata": {
    "ExecuteTime": {
     "end_time": "2020-02-14T19:18:00.661115Z",
     "start_time": "2020-02-14T19:18:00.656167Z"
    }
   },
   "outputs": [],
   "source": [
    "html_doc = \"\"\"\n",
    "<html><head><title>The Dormouse's story</title></head>\n",
    "<body>\n",
    "<p class=\"title\"><b>The Dormouse's story</b></p>\n",
    "\n",
    "<p class=\"story\">Once upon a time there were three little sisters; and their names were\n",
    "<a href=\"http://example.com/elsie\" class=\"sister\" id=\"link1\">Elsie</a>,\n",
    "<a href=\"http://example.com/lacie\" class=\"sister\" id=\"link2\">Lacie</a> and\n",
    "<a href=\"http://example.com/tillie\" class=\"sister\" id=\"link3\">Tillie</a>;\n",
    "and they lived at the bottom of a well.</p>\n",
    "\n",
    "<p class=\"story\">...</p>\n",
    "\"\"\""
   ]
  },
  {
   "cell_type": "code",
   "execution_count": 139,
   "metadata": {
    "ExecuteTime": {
     "end_time": "2020-02-14T19:12:30.099500Z",
     "start_time": "2020-02-14T19:12:30.090469Z"
    }
   },
   "outputs": [
    {
     "data": {
      "text/plain": [
       "<html><head><title>The Dormouse's story</title></head>\n",
       "<body>\n",
       "<p class=\"title\"><b>The Dormouse's story</b></p>\n",
       "<p class=\"story\">Once upon a time there were three little sisters; and their names were\n",
       "<a class=\"sister\" href=\"http://example.com/elsie\" id=\"link1\">Elsie</a>,\n",
       "<a class=\"sister\" href=\"http://example.com/lacie\" id=\"link2\">Lacie</a> and\n",
       "<a class=\"sister\" href=\"http://example.com/tillie\" id=\"link3\">Tillie</a>;\n",
       "and they lived at the bottom of a well.</p>\n",
       "<p class=\"story\">...</p>\n",
       "</body></html>"
      ]
     },
     "execution_count": 139,
     "metadata": {},
     "output_type": "execute_result"
    }
   ],
   "source": [
    "soup = BeautifulSoup(html_doc)\n",
    "soup"
   ]
  },
  {
   "cell_type": "code",
   "execution_count": 140,
   "metadata": {
    "ExecuteTime": {
     "end_time": "2020-02-14T19:12:35.282078Z",
     "start_time": "2020-02-14T19:12:35.266988Z"
    }
   },
   "outputs": [
    {
     "data": {
      "text/plain": [
       "<html><head><title>The Dormouse's story</title></head>\n",
       "<body>\n",
       "<p class=\"title\"><b>The Dormouse's story</b></p>\n",
       "<p class=\"story\">Once upon a time there were three little sisters; and their names were\n",
       "<a class=\"sister\" href=\"http://example.com/elsie\" id=\"link1\">Elsie</a>,\n",
       "<a class=\"sister\" href=\"http://example.com/lacie\" id=\"link2\">Lacie</a> and\n",
       "<a class=\"sister\" href=\"http://example.com/tillie\" id=\"link3\">Tillie</a>;\n",
       "and they lived at the bottom of a well.</p>\n",
       "<p class=\"story\">...</p>\n",
       "</body></html>"
      ]
     },
     "execution_count": 140,
     "metadata": {},
     "output_type": "execute_result"
    }
   ],
   "source": [
    "soup.html"
   ]
  },
  {
   "cell_type": "code",
   "execution_count": 141,
   "metadata": {
    "ExecuteTime": {
     "end_time": "2020-02-14T19:12:41.649962Z",
     "start_time": "2020-02-14T19:12:41.638571Z"
    }
   },
   "outputs": [
    {
     "data": {
      "text/plain": [
       "<head><title>The Dormouse's story</title></head>"
      ]
     },
     "execution_count": 141,
     "metadata": {},
     "output_type": "execute_result"
    }
   ],
   "source": [
    "soup.head"
   ]
  },
  {
   "cell_type": "code",
   "execution_count": 142,
   "metadata": {
    "ExecuteTime": {
     "end_time": "2020-02-14T19:12:48.589301Z",
     "start_time": "2020-02-14T19:12:48.573715Z"
    }
   },
   "outputs": [
    {
     "data": {
      "text/plain": [
       "<title>The Dormouse's story</title>"
      ]
     },
     "execution_count": 142,
     "metadata": {},
     "output_type": "execute_result"
    }
   ],
   "source": [
    "soup.title"
   ]
  },
  {
   "cell_type": "code",
   "execution_count": 143,
   "metadata": {
    "ExecuteTime": {
     "end_time": "2020-02-14T19:12:54.016290Z",
     "start_time": "2020-02-14T19:12:54.010161Z"
    }
   },
   "outputs": [
    {
     "data": {
      "text/plain": [
       "<p class=\"title\"><b>The Dormouse's story</b></p>"
      ]
     },
     "execution_count": 143,
     "metadata": {},
     "output_type": "execute_result"
    }
   ],
   "source": [
    "soup.p"
   ]
  },
  {
   "cell_type": "code",
   "execution_count": 146,
   "metadata": {
    "ExecuteTime": {
     "end_time": "2020-02-14T19:14:49.530713Z",
     "start_time": "2020-02-14T19:14:49.520259Z"
    }
   },
   "outputs": [
    {
     "data": {
      "text/plain": [
       "<a class=\"sister\" href=\"http://example.com/elsie\" id=\"link1\">Elsie</a>"
      ]
     },
     "execution_count": 146,
     "metadata": {},
     "output_type": "execute_result"
    }
   ],
   "source": [
    "soup.a"
   ]
  },
  {
   "cell_type": "code",
   "execution_count": 147,
   "metadata": {
    "ExecuteTime": {
     "end_time": "2020-02-14T19:15:03.151588Z",
     "start_time": "2020-02-14T19:15:03.145135Z"
    }
   },
   "outputs": [
    {
     "data": {
      "text/plain": [
       "[<a class=\"sister\" href=\"http://example.com/elsie\" id=\"link1\">Elsie</a>,\n",
       " <a class=\"sister\" href=\"http://example.com/lacie\" id=\"link2\">Lacie</a>,\n",
       " <a class=\"sister\" href=\"http://example.com/tillie\" id=\"link3\">Tillie</a>]"
      ]
     },
     "execution_count": 147,
     "metadata": {},
     "output_type": "execute_result"
    }
   ],
   "source": [
    "soup.find_all('a')"
   ]
  },
  {
   "cell_type": "code",
   "execution_count": 150,
   "metadata": {
    "ExecuteTime": {
     "end_time": "2020-02-14T19:17:13.512365Z",
     "start_time": "2020-02-14T19:17:13.495544Z"
    }
   },
   "outputs": [
    {
     "name": "stdout",
     "output_type": "stream",
     "text": [
      "html\n",
      "head\n",
      "title\n",
      "body\n",
      "p\n",
      "b\n",
      "p\n",
      "a\n",
      "a\n",
      "a\n",
      "p\n"
     ]
    }
   ],
   "source": [
    "for tag in soup.find_all(True):\n",
    "    print(tag.name)"
   ]
  },
  {
   "cell_type": "markdown",
   "metadata": {},
   "source": [
    "## Now real website!"
   ]
  },
  {
   "cell_type": "markdown",
   "metadata": {},
   "source": [
    "Let's look at the New york times politics section:\n",
    "\n",
    "https://www.nytimes.com/news-event/2020-election\n",
    "\n",
    "Seems like a nice look to work from. Let's go to the browser and check what we can see?"
   ]
  },
  {
   "cell_type": "code",
   "execution_count": 23,
   "metadata": {
    "ExecuteTime": {
     "end_time": "2020-02-14T10:12:31.456516Z",
     "start_time": "2020-02-14T10:12:31.181001Z"
    }
   },
   "outputs": [
    {
     "data": {
      "text/plain": [
       "<Response [200]>"
      ]
     },
     "execution_count": 23,
     "metadata": {},
     "output_type": "execute_result"
    }
   ],
   "source": [
    "## Request the url\n",
    "\n",
    "url = \"https://www.nytimes.com/news-event/2020-election\"\n",
    "\n",
    "r= requests.get(url)\n",
    "r"
   ]
  },
  {
   "cell_type": "code",
   "execution_count": 155,
   "metadata": {
    "ExecuteTime": {
     "end_time": "2020-02-14T19:18:46.633497Z",
     "start_time": "2020-02-14T19:18:46.575460Z"
    }
   },
   "outputs": [],
   "source": [
    "soup = BeautifulSoup(r.text, 'lxml')"
   ]
  },
  {
   "cell_type": "code",
   "execution_count": 132,
   "metadata": {
    "ExecuteTime": {
     "end_time": "2020-02-14T19:09:55.112187Z",
     "start_time": "2020-02-14T19:09:55.004411Z"
    }
   },
   "outputs": [
    {
     "data": {
      "text/plain": [
       "<!DOCTYPE html>\n",
       "<html lang=\"en\" xmlns:og=\"http://opengraphprotocol.org/schema/\">\n",
       "<head>\n",
       "<title data-rh=\"true\">Election 2020 - The New York Times</title>\n",
       "<meta content=\"en-US\" data-rh=\"true\" itemprop=\"inLanguage\"/><meta content=\"collection\" data-rh=\"true\" id=\"applicationName\" name=\"applicationName\"/><meta content=\"2020-election\" data-rh=\"true\" name=\"nyt-collection:identifier\"/><meta content=\"2020-election\" data-rh=\"true\" name=\"CN\"/><meta content=\"news_eventcollection\" data-rh=\"true\" name=\"nyt-collection:type\"/><meta content=\"column\" data-rh=\"true\" name=\"CT\"/><meta content=\"Politics\" data-rh=\"true\" name=\"nyt-collection:display-name\"/><meta content=\"Read the latest on the 2020 election, including coverage of Donald Trump, Joe Biden, Elizabeth Warren, Bernie Sanders, Pete Buttigieg and more.\" data-rh=\"true\" name=\"nyt-collection:tagline\"/><meta content=\"\" data-rh=\"true\" name=\"nyt-collection:promotional-image\"/><meta content=\"collection\" data-rh=\"true\" name=\"PT\"/><meta content=\"100000006476593\" data-rh=\"true\" name=\"asset_id\"/><meta content=\"2020-election\" data-rh=\"true\" name=\"slug\"/><meta content=\"Coverage of the 2020 presidential election, the Democratic candidates and Donald Trump’s campaign for a second term.\" data-rh=\"true\" property=\"og:description\"/><meta content=\"Coverage of the 2020 presidential election, the Democratic candidates and Donald Trump’s campaign for a second term.\" data-rh=\"true\" name=\"description\"/><meta content=\"Coverage of the 2020 presidential election, the Democratic candidates and Donald Trump’s campaign for a second term.\" data-rh=\"true\" name=\"description\" property=\"twitter:description\"/><meta content=\"Politics\" data-rh=\"true\" property=\"og:title\"/><meta content=\"Politics\" data-rh=\"true\" property=\"twitter:title\"/><meta content=\"U.S.\" data-rh=\"true\" name=\"news_keywords\"/><meta content=\"U.S.\" data-rh=\"true\" name=\"keywords\"/><meta content=\"https://static01.nyt.com/images/2019/05/20/us/politics/2020collection-page/2020collection-page-videoSixteenByNineJumbo1600.jpg\" data-rh=\"true\" property=\"og:image\"/><meta content=\"https://static01.nyt.com/images/2019/05/20/us/politics/2020collection-page/2020collection-page-videoSixteenByNineJumbo1600.jpg\" data-rh=\"true\" property=\"twitter:image\"/><meta content=\"Politics\" data-rh=\"true\" property=\"collection:section\"/><meta content=\"Politics\" data-rh=\"true\" property=\"collection:parentsection\"/><meta content=\"\" data-rh=\"true\" property=\"collection:author\"/><meta content=\"20190424\" data-rh=\"true\" name=\"pdate\"/><meta content=\"20200214003548\" data-rh=\"true\" name=\"utime\"/><meta content=\"20190424163204\" data-rh=\"true\" name=\"ptime\"/><meta content=\"https://www.nytimes.com/news-event/2020-election\" data-rh=\"true\" name=\"nyt-collection:url\"/><meta content=\"/news-event/2020-election\" data-rh=\"true\" name=\"nyt-collection:uri\"/><meta content=\"https://www.nytimes.com/news-event/2020-election\" data-rh=\"true\" property=\"og:url\"/><meta content=\"https://www.nytimes.com/news-event/2020-election\" data-rh=\"true\" property=\"twitter:url\"/><meta content=\"article\" data-rh=\"true\" property=\"og:type\"/><meta content=\"9869919170\" data-rh=\"true\" property=\"fb:app_id\"/><meta content=\"en\" data-rh=\"true\" property=\"collection:language\"/><meta data-rh=\"true\" name=\"twitter:card\" value=\"summary_large_image\"/><meta data-rh=\"true\" name=\"twitter:site\" value=\"@nytimes\"/><meta content=\"noarchives\" data-rh=\"true\" name=\"robots\"/>\n",
       "<meta charset=\"utf-8\"/>\n",
       "<meta content=\"IE=edge\" http-equiv=\"X-UA-Compatible\"/>\n",
       "<meta content=\"width=device-width, initial-scale=1\" name=\"viewport\"/>\n",
       "<meta content=\"9869919170\" property=\"fb:app_id\"/>\n",
       "<meta name=\"twitter:site\" value=\"@nytimes\"/>\n",
       "<link data-rh=\"true\" href=\"/vi-assets/static-assets/favicon-4bf96cb6a1093748bf5b3c429accb9b4.ico\" rel=\"shortcut icon\"/><link data-rh=\"true\" href=\"/vi-assets/static-assets/apple-touch-icon-319373aaf4524d94d38aa599c56b8655.png\" rel=\"apple-touch-icon\"/><link data-rh=\"true\" href=\"/vi-assets/static-assets/ios-ipad-144x144-319373aaf4524d94d38aa599c56b8655.png\" rel=\"apple-touch-icon-precomposed\" sizes=\"144×144\"/><link data-rh=\"true\" href=\"/vi-assets/static-assets/ios-iphone-114x144-61d373c43aa8365d3940c5f1135f4597.png\" rel=\"apple-touch-icon-precomposed\" sizes=\"114×114\"/><link data-rh=\"true\" href=\"/vi-assets/static-assets/ios-default-homescreen-57x57-7cccbfb151c7db793e92ea58c30b9e72.png\" rel=\"apple-touch-icon-precomposed\"/><link data-rh=\"true\" href=\"https://www.nytimes.com/svc/collections/v1/publish/https://www.nytimes.com/news-event/2020-election/rss.xml\" rel=\"alternate\" title=\"RSS\" type=\"application/rss+xml\"/><link data-rh=\"true\" href=\"https://www.nytimes.com/news-event/2020-election\" rel=\"canonical\"/>\n",
       "<link href=\"https://g1.nyt.com/fonts/css/web-fonts.5810def60210a2fa7d0848f37e3fa048bb6147b1.css\" rel=\"stylesheet\" type=\"text/css\"/>\n",
       "<link href=\"/vi-assets/static-assets/global-42db6c8821fec0e2b3837b2ea2ece8fe.css\" rel=\"stylesheet\"/>\n",
       "<style>[data-timezone] { display: none }</style>\n",
       "<style data-lights-css=\"1dv1kvn 6n7j50 1kj7lfb 10m9xeu vz7hjd 1fe7a5q 1f8er69 10488qs nuvmzp 1gz70xg 9e9ivx 2bwtzy 1iruc8t 1ropbjl uw59u jxzr5i oylsik 1otr2jl f758uo qtw155 v0l3hm g4gku8 1rr4qq7 6xhk3s rxqrcl tj0ten ist4u3 1gprdgz 10t7hia mzqdl kwpx34 1k2cjfc 1vhk1ks 6td9kr r5ic95 15uy5yv jq1cx6 1hyfx7x 17ih8de d8bdto y8aj3r 60hakz 1baulvz f8wsfj mhvv8m m6999o 1m9j9gf 79elbk 1mksj48 5j8bii 1q1yk17 g7rb99 11cwn6f l57rop 1t62hi8 15cbhtu 1stvaey m70j1g 1xonkmu 1n7hynb ye6x8s 1cp3ece 1l4spti ulz9xo 1b9egsl b7n1on 10wtrbd me3p27 9voj2j imuvyx apvlfc f8yl15 3q005l 1jhow8c wm4t3d 13mho3u g6hk37 14aj3sn 1xipwcf 13fifft w0onlv 1bb67pc ui9rw0 1uqx5yl 1o0yzqm fnhm75 10698na nhjhh0 13xu0ly 1o2c7rh 15hmgas uqyvli 1uqjmks 1bvtpon 15p45cc 9nt7xf pln5u7 1ef0s5q 1j21atc fmiefx 1u1077h 1hk7r2m 7a1pgi glk6q7 nfcc9b vl9dhg 1nrhkj6 mn5hq9 batzk0 1ho5u4o 13o0c9t 1yo489b 10wkyv7 o14rps 16ogagc 4brsb6 uhuo44 17ai7jg ahe4g0 11hrj97 bregw8 zz1s19 1fnb9ct 5xm8y 27xwe6 185go5a 1ckwy97 1pfdu6b 1iovbfw 13a7bdu 1e0k7mu 8msx5b 1j9dxys 1echdzn 1nqbnmb 1lc2l26 1jmohfm oxle51 1mn4oms o2c1jw 47f75k 9s7qe8 1e91rfo h29fi5 1q05mva k543x9 kxbuhr 1sxmvgn g0tn84 4tin05 qxlwcd zpl4ow 11owqiq gfgt40 aqbich 1nk1g0h l2vidh 1gh531 1dydysp 1bto01c 18l1u7x 1m343ig 1kieyps 1acbpvw cyqadh 1v0nyq lv8nxx 6knu33 1ufzkuw o2xxmf 1x7j1fu rgzd4z 11dksi6 1dg14t6 4thj3a 1s9ra41 r1u3ca k0lfw7\">.css-1dv1kvn{border:0;-webkit-clip:rect(0 0 0 0);clip:rect(0 0 0 0);height:1px;margin:-1px;overflow:hidden;padding:0;position:absolute;width:1px;}.css-6n7j50{display:inline;}.css-1kj7lfb{display:none;}@media (min-width:1024px){.css-1kj7lfb{display:inline-block;margin-right:7px;}}.css-10m9xeu{display:block;width:16px;height:16px;}.css-vz7hjd{border:0;-webkit-clip:rect(0 0 0 0);clip:rect(0 0 0 0);height:1px;margin:-1px;overflow:hidden;padding:0;position:absolute;width:1px;}.css-1fe7a5q{display:inline-block;height:16px;vertical-align:sub;width:16px;}.css-1f8er69{border:0;-webkit-clip:rect(0 0 0 0);clip:rect(0 0 0 0);height:1px;margin:-1px;overflow:hidden;padding:0;position:absolute;width:1px;border-radius:3px;cursor:pointer;font-family:nyt-franklin,helvetica,arial,sans-serif;-webkit-transition:ease 0.6s;transition:ease 0.6s;white-space:nowrap;vertical-align:middle;background-color:transparent;color:#000;font-size:11px;line-height:11px;font-weight:700;-webkit-letter-spacing:0.02em;-moz-letter-spacing:0.02em;-ms-letter-spacing:0.02em;letter-spacing:0.02em;padding:11px 12px 8px;background:#fff;display:inline-block;left:44px;text-transform:uppercase;-webkit-transition:none;transition:none;}.css-1f8er69:active,.css-1f8er69:focus{-webkit-clip:auto;clip:auto;overflow:visible;width:auto;height:auto;}.css-1f8er69::-moz-focus-inner{padding:0;border:0;}.css-1f8er69:-moz-focusring{outline:1px dotted;}.css-1f8er69:disabled,.css-1f8er69.disabled{opacity:0.5;cursor:default;}.css-1f8er69:active,.css-1f8er69.active{background-color:#f7f7f7;}@media (min-width:740px){.css-1f8er69:hover{background-color:#f7f7f7;}}.css-1f8er69:focus{margin-top:3px;padding:8px 8px 6px;}@media (min-width:1024px){.css-1f8er69{left:112px;}}.css-10488qs{display:none;}@media (min-width:1024px){.css-10488qs{display:inline-block;position:relative;}}.css-nuvmzp{font-size:14.25px;font-family:nyt-franklin,helvetica,arial,sans-serif;font-weight:700;text-transform:uppercase;-webkit-letter-spacing:0.7px;-moz-letter-spacing:0.7px;-ms-letter-spacing:0.7px;letter-spacing:0.7px;line-height:19px;}.css-nuvmzp:hover{-webkit-text-decoration:underline;text-decoration:underline;}.css-1gz70xg{border-left:1px solid #ccc;color:#326891;height:12px;margin-left:8px;padding-left:8px;}.css-9e9ivx{display:none;font-size:10px;margin-left:auto;text-transform:uppercase;}.hasLinks .css-9e9ivx{display:block;}@media (min-width:740px){.hasLinks .css-9e9ivx{margin:none;position:absolute;right:20px;}}@media (min-width:1024px){.hasLinks .css-9e9ivx{display:none;}}.css-2bwtzy{display:inline-block;padding:6px 4px 4px;margin-bottom:12px;font-size:12px;border-radius:3px;-webkit-transition:background 0.6s ease;transition:background 0.6s ease;}.css-2bwtzy:hover{background-color:#f7f7f7;}.css-1iruc8t{list-style:none;margin:0;padding:0;}.css-1ropbjl::before{background-color:$white;border-bottom:1px solid #e2e2e2;border-top:2px solid #e2e2e2;content:'';display:block;height:1px;margin-top:0;}@media (min-width:1150px){.css-1ropbjl{margin:0 auto;max-width:1200px;padding:0 3% 9px;}}.NYTApp .css-1ropbjl{display:none;}@media print{.css-1ropbjl{display:none;}}.css-uw59u{padding:0 20px;}@media (min-width:740px){.css-uw59u{padding:0 3%;}}@media (min-width:1150px){.css-uw59u{padding:0;}}.css-jxzr5i{display:-webkit-box;display:-webkit-flex;display:-ms-flexbox;display:flex;-webkit-flex-flow:row;-ms-flex-flow:row;flex-flow:row;}.css-oylsik{display:block;height:44px;vertical-align:middle;width:184px;}.css-1otr2jl{margin:18px 0 0 auto;}.css-f758uo{color:#567b95;font-family:nyt-franklin;font-size:11px;font-style:normal;font-weight:400;line-height:11px;-webkit-text-decoration:none;text-decoration:none;}.css-qtw155{display:block;}@media (min-width:1150px){"
      ]
     },
     "execution_count": 132,
     "metadata": {},
     "output_type": "execute_result"
    },
    {
     "data": {
      "text/html": [
       "<b>limit_output extension: Maximum message size of 10000 exceeded with 1408783 characters</b>"
      ]
     },
     "metadata": {},
     "output_type": "display_data"
    }
   ],
   "source": [
    "soup"
   ]
  },
  {
   "cell_type": "code",
   "execution_count": 178,
   "metadata": {
    "ExecuteTime": {
     "end_time": "2020-02-14T19:25:04.486247Z",
     "start_time": "2020-02-14T19:25:04.475531Z"
    }
   },
   "outputs": [
    {
     "data": {
      "text/plain": [
       "['/2020/02/13/us/politics/elizabeth-warren-bloomberg.html',\n",
       " '/2020/02/13/us/politics/nevada-culinary-union-endorsement.html',\n",
       " '/2020/02/13/climate/trump-fuel-economy-rollback.html',\n",
       " '/2020/02/13/us/politics/trump-bloomberg.html',\n",
       " '/2020/02/13/us/politics/hope-hicks-white-house-return.html',\n",
       " '/2020/02/13/us/politics/on-politics-sanders-nevada.html',\n",
       " '/2020/02/13/us/russian-propaganda-radio.html',\n",
       " '/2020/02/13/us/politics/nevada-caucuses.html',\n",
       " '/2020/02/13/us/politics/voting-smartphone-app.html',\n",
       " '/2020/02/13/style/michael-bloomberg-memes-jerry-media.html',\n",
       " '/2020/02/12/us/politics/new-hampshire-primary-turnout.html',\n",
       " '/2020/02/12/us/politics/bernie-sanders-democrats.html',\n",
       " '/2020/02/12/us/politics/on-politics-michael-bloomberg.html',\n",
       " '/2020/02/12/us/politics/troy-price-resigns-iowa.html',\n",
       " '/2020/02/12/us/politics/democrats-new-hampshire-sanders.html',\n",
       " '/2020/02/12/upshot/bernie-sanders-2020-path.html',\n",
       " '/2020/02/12/us/politics/elizabeth-warren-new-hampshire.html',\n",
       " '/2020/02/12/us/politics/democrats-fear-bernie-sanders.html',\n",
       " '/2020/02/12/business/economy/judy-shelton-federal-reserve.html',\n",
       " '/2020/02/12/us/politics/deval-patrick-drops-out.html']"
      ]
     },
     "execution_count": 178,
     "metadata": {},
     "output_type": "execute_result"
    }
   ],
   "source": [
    "url_list = []\n",
    "\n",
    "needed_divs = soup.find_all('div', class_ =\"css-1l4spti\")\n",
    "for div in needed_divs:\n",
    "    url_list.append(div.a.get('href'))\n",
    "    \n",
    "url_list"
   ]
  },
  {
   "cell_type": "markdown",
   "metadata": {},
   "source": [
    "Now let's go to each website and do our searches for each candidate. But wait!"
   ]
  },
  {
   "cell_type": "markdown",
   "metadata": {},
   "source": [
    "### A brief foray into decorators and the `backoff` module"
   ]
  },
  {
   "cell_type": "markdown",
   "metadata": {},
   "source": [
    "Oftentimes, when you loop through many webpages, the loop might break because you're making too many requests at once. \n",
    "\n",
    "That's what `backoff` is for. If the website gives an error, `backoff` will catch the exception and make the request again with some pause. The more times the exception is thrown the longer `backoff` will pause before making another one. \n",
    "\n",
    "`backoff` works as a decorator function. What's that? It's basically a function takes a function as an argument, but returns some \"wrapper\" for that function that references a function in it... What does that mean?"
   ]
  },
  {
   "cell_type": "code",
   "execution_count": 65,
   "metadata": {
    "ExecuteTime": {
     "end_time": "2020-02-14T10:38:46.787422Z",
     "start_time": "2020-02-14T10:38:46.775342Z"
    }
   },
   "outputs": [
    {
     "name": "stdout",
     "output_type": "stream",
     "text": [
      "1+2=3\n"
     ]
    }
   ],
   "source": [
    "def add():\n",
    "    print('1+2=3') \n",
    "\n",
    "add()\n"
   ]
  },
  {
   "cell_type": "markdown",
   "metadata": {},
   "source": [
    "But now you wanted to make sure that people knew that this was a function about addition when they called it. You can write something like this:"
   ]
  },
  {
   "cell_type": "code",
   "execution_count": 66,
   "metadata": {
    "ExecuteTime": {
     "end_time": "2020-02-14T10:38:55.186453Z",
     "start_time": "2020-02-14T10:38:55.175986Z"
    }
   },
   "outputs": [
    {
     "name": "stdout",
     "output_type": "stream",
     "text": [
      "just in case you didn't know, this is addition\n",
      "1+2=3\n"
     ]
    }
   ],
   "source": [
    "def i_want_everyone_to_understand(func):\n",
    "    \n",
    "    def that_this_is_addition():\n",
    "        print(\"just in case you didn't know, this is addition\")\n",
    "        func()\n",
    "    return that_this_is_addition\n",
    "\n",
    "add = i_want_everyone_to_understand(add)\n",
    "\n",
    "add()"
   ]
  },
  {
   "cell_type": "markdown",
   "metadata": {},
   "source": [
    "Instead of writing out the whole function, we can do:\n"
   ]
  },
  {
   "cell_type": "code",
   "execution_count": 70,
   "metadata": {
    "ExecuteTime": {
     "end_time": "2020-02-14T10:40:08.675468Z",
     "start_time": "2020-02-14T10:40:08.667316Z"
    }
   },
   "outputs": [
    {
     "name": "stdout",
     "output_type": "stream",
     "text": [
      "just in case you didn't know, this is addition\n",
      "1+2=3\n"
     ]
    }
   ],
   "source": [
    "@i_want_everyone_to_understand\n",
    "def add():\n",
    "    print(\"1+2=3\")\n",
    "    \n",
    "add()"
   ]
  },
  {
   "cell_type": "markdown",
   "metadata": {},
   "source": [
    "So `backoff` does this samething, but it catches exceptions of your function. So let's make out requests getter a function so we can use `backoff` with it."
   ]
  },
  {
   "cell_type": "code",
   "execution_count": 73,
   "metadata": {
    "ExecuteTime": {
     "end_time": "2020-02-14T10:43:05.830975Z",
     "start_time": "2020-02-14T10:43:05.820819Z"
    }
   },
   "outputs": [],
   "source": [
    "@backoff.on_exception(backoff.expo,\n",
    "                      requests.exceptions.RequestException)\n",
    "def requester(url):\n",
    "    return requests.get(url)\n",
    "\n"
   ]
  },
  {
   "cell_type": "markdown",
   "metadata": {},
   "source": [
    "Now let's make our loop that gets the content from the webpage:"
   ]
  },
  {
   "cell_type": "code",
   "execution_count": 179,
   "metadata": {
    "ExecuteTime": {
     "end_time": "2020-02-14T19:25:22.549898Z",
     "start_time": "2020-02-14T19:25:18.750011Z"
    }
   },
   "outputs": [
    {
     "name": "stdout",
     "output_type": "stream",
     "text": [
      "Accessing https://www.nytimes.com/2020/02/13/us/politics/elizabeth-warren-bloomberg.html\n",
      "Accessing https://www.nytimes.com/2020/02/13/us/politics/nevada-culinary-union-endorsement.html\n",
      "Accessing https://www.nytimes.com/2020/02/13/climate/trump-fuel-economy-rollback.html\n",
      "Accessing https://www.nytimes.com/2020/02/13/us/politics/trump-bloomberg.html\n",
      "Accessing https://www.nytimes.com/2020/02/13/us/politics/hope-hicks-white-house-return.html\n",
      "Accessing https://www.nytimes.com/2020/02/13/us/politics/on-politics-sanders-nevada.html\n",
      "Accessing https://www.nytimes.com/2020/02/13/us/russian-propaganda-radio.html\n",
      "Accessing https://www.nytimes.com/2020/02/13/us/politics/nevada-caucuses.html\n",
      "Accessing https://www.nytimes.com/2020/02/13/us/politics/voting-smartphone-app.html\n",
      "Accessing https://www.nytimes.com/2020/02/13/style/michael-bloomberg-memes-jerry-media.html\n",
      "Accessing https://www.nytimes.com/2020/02/12/us/politics/new-hampshire-primary-turnout.html\n",
      "Accessing https://www.nytimes.com/2020/02/12/us/politics/bernie-sanders-democrats.html\n",
      "Accessing https://www.nytimes.com/2020/02/12/us/politics/on-politics-michael-bloomberg.html\n",
      "Accessing https://www.nytimes.com/2020/02/12/us/politics/troy-price-resigns-iowa.html\n",
      "Accessing https://www.nytimes.com/2020/02/12/us/politics/democrats-new-hampshire-sanders.html\n",
      "Accessing https://www.nytimes.com/2020/02/12/upshot/bernie-sanders-2020-path.html\n",
      "Accessing https://www.nytimes.com/2020/02/12/us/politics/elizabeth-warren-new-hampshire.html\n",
      "Accessing https://www.nytimes.com/2020/02/12/us/politics/democrats-fear-bernie-sanders.html\n",
      "Accessing https://www.nytimes.com/2020/02/12/business/economy/judy-shelton-federal-reserve.html\n",
      "Accessing https://www.nytimes.com/2020/02/12/us/politics/deval-patrick-drops-out.html\n"
     ]
    }
   ],
   "source": [
    "base_url = \"https://www.nytimes.com\"\n",
    "\n",
    "articles = []\n",
    "\n",
    "for relative_link in url_list:\n",
    "    site = requester(base_url + relative_link).text\n",
    "    articles.append(site)\n",
    "    print(f\"Accessing {base_url + relative_link}\")"
   ]
  },
  {
   "cell_type": "markdown",
   "metadata": {
    "ExecuteTime": {
     "end_time": "2020-02-14T10:47:20.432779Z",
     "start_time": "2020-02-14T10:47:19.443360Z"
    }
   },
   "source": [
    "Now let's sift through and see what we can find. "
   ]
  },
  {
   "cell_type": "code",
   "execution_count": 180,
   "metadata": {
    "ExecuteTime": {
     "end_time": "2020-02-14T19:25:24.595776Z",
     "start_time": "2020-02-14T19:25:24.482434Z"
    }
   },
   "outputs": [
    {
     "name": "stdout",
     "output_type": "stream",
     "text": [
      "Going through article 0\n",
      "Going through article 1\n",
      "Going through article 2\n",
      "Going through article 3\n",
      "Going through article 4\n",
      "Going through article 5\n",
      "Going through article 6\n",
      "Going through article 7\n",
      "Going through article 8\n",
      "Going through article 9\n",
      "Going through article 10\n",
      "Going through article 11\n",
      "Going through article 12\n",
      "Going through article 13\n",
      "Going through article 14\n",
      "Going through article 15\n",
      "Going through article 16\n",
      "Going through article 17\n",
      "Going through article 18\n",
      "Going through article 19\n"
     ]
    }
   ],
   "source": [
    "name_list = []\n",
    "\n",
    "for i, article in enumerate(articles):\n",
    "    for name in ['Sanders', 'Trump', 'Warren', 'Buttigieg', 'Klobuchar', 'Yang']:\n",
    "        name_list.extend(re.findall(name,article))\n",
    "    print(f\"Going through article {i}\")"
   ]
  },
  {
   "cell_type": "code",
   "execution_count": 181,
   "metadata": {
    "ExecuteTime": {
     "end_time": "2020-02-14T19:25:27.618548Z",
     "start_time": "2020-02-14T19:25:27.600574Z"
    }
   },
   "outputs": [
    {
     "data": {
      "text/plain": [
       "['Sanders',\n",
       " 'Sanders',\n",
       " 'Sanders',\n",
       " 'Sanders',\n",
       " 'Sanders',\n",
       " 'Sanders',\n",
       " 'Sanders',\n",
       " 'Sanders',\n",
       " 'Sanders',\n",
       " 'Sanders',\n",
       " 'Sanders',\n",
       " 'Sanders',\n",
       " 'Sanders',\n",
       " 'Sanders',\n",
       " 'Trump',\n",
       " 'Trump',\n",
       " 'Warren',\n",
       " 'Warren',\n",
       " 'Warren',\n",
       " 'Warren',\n",
       " 'Warren',\n",
       " 'Warren',\n",
       " 'Warren',\n",
       " 'Warren',\n",
       " 'Warren',\n",
       " 'Warren',\n",
       " 'Warren',\n",
       " 'Warren',\n",
       " 'Warren',\n",
       " 'Warren',\n",
       " 'Warren',\n",
       " 'Warren',\n",
       " 'Warren',\n",
       " 'Warren',\n",
       " 'Warren',\n",
       " 'Warren',\n",
       " 'Warren',\n",
       " 'Warren',\n",
       " 'Warren',\n",
       " 'Warren',\n",
       " 'Warren',\n",
       " 'Warren',\n",
       " 'Warren',\n",
       " 'Warren',\n",
       " 'Warren',\n",
       " 'Warren',\n",
       " 'Warren',\n",
       " 'Warren',\n",
       " 'Warren',\n",
       " 'Warren',\n",
       " 'Warren',\n",
       " 'Warren',\n",
       " 'Warren',\n",
       " 'Warren',\n",
       " 'Warren',\n",
       " 'Warren',\n",
       " 'Warren',\n",
       " 'Warren',\n",
       " 'Warren',\n",
       " 'Warren',\n",
       " 'Warren',\n",
       " 'Warren',\n",
       " 'Warren',\n",
       " 'Warren',\n",
       " 'Warren',\n",
       " 'Warren',\n",
       " 'Warren',\n",
       " 'Warren',\n",
       " 'Warren',\n",
       " 'Warren',\n",
       " 'Warren',\n",
       " 'Warren',\n",
       " 'Warren',\n",
       " 'Warren',\n",
       " 'Warren',\n",
       " 'Warren',\n",
       " 'Warren',\n",
       " 'Warren',\n",
       " 'Warren',\n",
       " 'Buttigieg',\n",
       " 'Buttigieg',\n",
       " 'Buttigieg',\n",
       " 'Buttigieg',\n",
       " 'Buttigieg',\n",
       " 'Buttigieg',\n",
       " 'Buttigieg',\n",
       " 'Buttigieg',\n",
       " 'Buttigieg',\n",
       " 'Buttigieg',\n",
       " 'Buttigieg',\n",
       " 'Buttigieg',\n",
       " 'Klobuchar',\n",
       " 'Klobuchar',\n",
       " 'Klobuchar',\n",
       " 'Klobuchar',\n",
       " 'Klobuchar',\n",
       " 'Klobuchar',\n",
       " 'Sanders',\n",
       " 'Sanders',\n",
       " 'Sanders',\n",
       " 'Sanders',\n",
       " 'Sanders',\n",
       " 'Sanders',\n",
       " 'Sanders',\n",
       " 'Sanders',\n",
       " 'Sanders',\n",
       " 'Sanders',\n",
       " 'Sanders',\n",
       " 'Sanders',\n",
       " 'Sanders',\n",
       " 'Sanders',\n",
       " 'Sanders',\n",
       " 'Sanders',\n",
       " 'Sanders',\n",
       " 'Sanders',\n",
       " 'Sanders',\n",
       " 'Sanders',\n",
       " 'Sanders',\n",
       " 'Sanders',\n",
       " 'Sanders',\n",
       " 'Sanders',\n",
       " 'Sanders',\n",
       " 'Sanders',\n",
       " 'Trump',\n",
       " 'Trump',\n",
       " 'Warren',\n",
       " 'Warren',\n",
       " 'Buttigieg',\n",
       " 'Buttigieg',\n",
       " 'Buttigieg',\n",
       " 'Buttigieg',\n",
       " 'Buttigieg',\n",
       " 'Buttigieg',\n",
       " 'Klobuchar',\n",
       " 'Klobuchar',\n",
       " 'Klobuchar',\n",
       " 'Klobuchar',\n",
       " 'Sanders',\n",
       " 'Sanders',\n",
       " 'Sanders',\n",
       " 'Sanders',\n",
       " 'Sanders',\n",
       " 'Sanders',\n",
       " 'Sanders',\n",
       " 'Sanders',\n",
       " 'Trump',\n",
       " 'Trump',\n",
       " 'Trump',\n",
       " 'Trump',\n",
       " 'Trump',\n",
       " 'Trump',\n",
       " 'Trump',\n",
       " 'Trump',\n",
       " 'Trump',\n",
       " 'Trump',\n",
       " 'Trump',\n",
       " 'Trump',\n",
       " 'Trump',\n",
       " 'Trump',\n",
       " 'Trump',\n",
       " 'Trump',\n",
       " 'Trump',\n",
       " 'Trump',\n",
       " 'Trump',\n",
       " 'Trump',\n",
       " 'Trump',\n",
       " 'Trump',\n",
       " 'Trump',\n",
       " 'Trump',\n",
       " 'Trump',\n",
       " 'Trump',\n",
       " 'Trump',\n",
       " 'Trump',\n",
       " 'Trump',\n",
       " 'Trump',\n",
       " 'Trump',\n",
       " 'Trump',\n",
       " 'Trump',\n",
       " 'Trump',\n",
       " 'Trump',\n",
       " 'Trump',\n",
       " 'Trump',\n",
       " 'Trump',\n",
       " 'Trump',\n",
       " 'Trump',\n",
       " 'Trump',\n",
       " 'Trump',\n",
       " 'Trump',\n",
       " 'Trump',\n",
       " 'Trump',\n",
       " 'Trump',\n",
       " 'Trump',\n",
       " 'Trump',\n",
       " 'Trump',\n",
       " 'Trump',\n",
       " 'Trump',\n",
       " 'Trump',\n",
       " 'Trump',\n",
       " 'Trump',\n",
       " 'Trump',\n",
       " 'Trump',\n",
       " 'Trump',\n",
       " 'Trump',\n",
       " 'Trump',\n",
       " 'Trump',\n",
       " 'Trump',\n",
       " 'Trump',\n",
       " 'Trump',\n",
       " 'Trump',\n",
       " 'Trump',\n",
       " 'Trump',\n",
       " 'Trump',\n",
       " 'Trump',\n",
       " 'Trump',\n",
       " 'Trump',\n",
       " 'Trump',\n",
       " 'Trump',\n",
       " 'Trump',\n",
       " 'Trump',\n",
       " 'Trump',\n",
       " 'Trump',\n",
       " 'Trump',\n",
       " 'Trump',\n",
       " 'Trump',\n",
       " 'Trump',\n",
       " 'Warren',\n",
       " 'Warren',\n",
       " 'Warren',\n",
       " 'Warren',\n",
       " 'Warren',\n",
       " 'Warren',\n",
       " 'Warren',\n",
       " 'Warren',\n",
       " 'Warren',\n",
       " 'Warren',\n",
       " 'Warren',\n",
       " 'Warren',\n",
       " 'Buttigieg',\n",
       " 'Buttigieg',\n",
       " 'Buttigieg',\n",
       " 'Buttigieg',\n",
       " 'Buttigieg',\n",
       " 'Buttigieg',\n",
       " 'Klobuchar',\n",
       " 'Klobuchar',\n",
       " 'Klobuchar',\n",
       " 'Klobuchar',\n",
       " 'Sanders',\n",
       " 'Sanders',\n",
       " 'Sanders',\n",
       " 'Sanders',\n",
       " 'Sanders',\n",
       " 'Sanders',\n",
       " 'Sanders',\n",
       " 'Sanders',\n",
       " 'Trump',\n",
       " 'Trump',\n",
       " 'Trump',\n",
       " 'Trump',\n",
       " 'Trump',\n",
       " 'Trump',\n",
       " 'Trump',\n",
       " 'Trump',\n",
       " 'Trump',\n",
       " 'Trump',\n",
       " 'Trump',\n",
       " 'Trump',\n",
       " 'Trump',\n",
       " 'Trump',\n",
       " 'Trump',\n",
       " 'Trump',\n",
       " 'Trump',\n",
       " 'Trump',\n",
       " 'Trump',\n",
       " 'Trump',\n",
       " 'Trump',\n",
       " 'Trump',\n",
       " 'Trump',\n",
       " 'Trump',\n",
       " 'Trump',\n",
       " 'Trump',\n",
       " 'Trump',\n",
       " 'Trump',\n",
       " 'Trump',\n",
       " 'Trump',\n",
       " 'Trump',\n",
       " 'Trump',\n",
       " 'Trump',\n",
       " 'Trump',\n",
       " 'Trump',\n",
       " 'Trump',\n",
       " 'Trump',\n",
       " 'Trump',\n",
       " 'Trump',\n",
       " 'Trump',\n",
       " 'Trump',\n",
       " 'Trump',\n",
       " 'Trump',\n",
       " 'Trump',\n",
       " 'Trump',\n",
       " 'Trump',\n",
       " 'Trump',\n",
       " 'Trump',\n",
       " 'Trump',\n",
       " 'Trump',\n",
       " 'Trump',\n",
       " 'Trump',\n",
       " 'Trump',\n",
       " 'Trump',\n",
       " 'Trump',\n",
       " 'Trump',\n",
       " 'Trump',\n",
       " 'Trump',\n",
       " 'Trump',\n",
       " 'Trump',\n",
       " 'Trump',\n",
       " 'Trump',\n",
       " 'Trump',\n",
       " 'Trump',\n",
       " 'Trump',\n",
       " 'Trump',\n",
       " 'Trump',\n",
       " 'Trump',\n",
       " 'Trump',\n",
       " 'Trump',\n",
       " 'Trump',\n",
       " 'Trump',\n",
       " 'Trump',\n",
       " 'Trump',\n",
       " 'Trump',\n",
       " 'Trump',\n",
       " 'Trump',\n",
       " 'Trump',\n",
       " 'Trump',\n",
       " 'Trump',\n",
       " 'Trump',\n",
       " 'Trump',\n",
       " 'Trump',\n",
       " 'Trump',\n",
       " 'Trump',\n",
       " 'Trump',\n",
       " 'Trump',\n",
       " 'Trump',\n",
       " 'Trump',\n",
       " 'Trump',\n",
       " 'Trump',\n",
       " 'Trump',\n",
       " 'Trump',\n",
       " 'Trump',\n",
       " 'Trump',\n",
       " 'Trump',\n",
       " 'Trump',\n",
       " 'Trump',\n",
       " 'Trump',\n",
       " 'Warren',\n",
       " 'Warren',\n",
       " 'Buttigieg',\n",
       " 'Buttigieg',\n",
       " 'Buttigieg',\n",
       " 'Buttigieg',\n",
       " 'Buttigieg',\n",
       " 'Buttigieg',\n",
       " 'Klobuchar',\n",
       " 'Klobuchar',\n",
       " 'Klobuchar',\n",
       " 'Klobuchar',\n",
       " 'Sanders',\n",
       " 'Sanders',\n",
       " 'Sanders',\n",
       " 'Sanders',\n",
       " 'Sanders',\n",
       " 'Sanders',\n",
       " 'Sanders',\n",
       " 'Sanders',\n",
       " 'Trump',\n",
       " 'Trump',\n",
       " 'Trump',\n",
       " 'Trump',\n",
       " 'Trump',\n",
       " 'Trump',\n",
       " 'Trump',\n",
       " 'Trump',\n",
       " 'Trump',\n",
       " 'Trump',\n",
       " 'Trump',\n",
       " 'Trump',\n",
       " 'Trump',\n",
       " 'Trump',\n",
       " 'Trump',\n",
       " 'Trump',\n",
       " 'Trump',\n",
       " 'Trump',\n",
       " 'Trump',\n",
       " 'Trump',\n",
       " 'Trump',\n",
       " 'Trump',\n",
       " 'Trump',\n",
       " 'Trump',\n",
       " 'Trump',\n",
       " 'Trump',\n",
       " 'Trump',\n",
       " 'Trump',\n",
       " 'Trump',\n",
       " 'Trump',\n",
       " 'Trump',\n",
       " 'Trump',\n",
       " 'Trump',\n",
       " 'Trump',\n",
       " 'Trump',\n",
       " 'Trump',\n",
       " 'Trump',\n",
       " 'Trump',\n",
       " 'Trump',\n",
       " 'Trump',\n",
       " 'Trump',\n",
       " 'Trump',\n",
       " 'Trump',\n",
       " 'Trump',\n",
       " 'Trump',\n",
       " 'Trump',\n",
       " 'Trump',\n",
       " 'Warren',\n",
       " 'Warren',\n",
       " 'Buttigieg',\n",
       " 'Buttigieg',\n",
       " 'Buttigieg',\n",
       " 'Buttigieg',\n",
       " 'Buttigieg',\n",
       " 'Buttigieg',\n",
       " 'Klobuchar',\n",
       " 'Klobuchar',\n",
       " 'Klobuchar',\n",
       " 'Klobuchar',\n",
       " 'Sanders',\n",
       " 'Sanders',\n",
       " 'Sanders',\n",
       " 'Sanders',\n",
       " 'Sanders',\n",
       " 'Sanders',\n",
       " 'Sanders',\n",
       " 'Sanders',\n",
       " 'Sanders',\n",
       " 'Sanders',\n",
       " 'Sanders',\n",
       " 'Sanders',\n",
       " 'Sanders',\n",
       " 'Sanders',\n",
       " 'Sanders',\n",
       " 'Sanders',\n",
       " 'Sanders',\n",
       " 'Sanders',\n",
       " 'Sanders',\n",
       " 'Sanders',\n",
       " 'Sanders',\n",
       " 'Sanders',\n",
       " 'Sanders',\n",
       " 'Sanders',\n",
       " 'Trump',\n",
       " 'Trump',\n",
       " 'Trump',\n",
       " 'Trump',\n",
       " 'Trump',\n",
       " 'Trump',\n",
       " 'Trump',\n",
       " 'Trump',\n",
       " 'Trump',\n",
       " 'Trump',\n",
       " 'Trump',\n",
       " 'Trump',\n",
       " 'Trump',\n",
       " 'Trump',\n",
       " 'Trump',\n",
       " 'Trump',\n",
       " 'Warren',\n",
       " 'Warren',\n",
       " 'Warren',\n",
       " 'Warren',\n",
       " 'Warren',\n",
       " 'Warren',\n",
       " 'Warren',\n",
       " 'Buttigieg',\n",
       " 'Buttigieg',\n",
       " 'Buttigieg',\n",
       " 'Buttigieg',\n",
       " 'Buttigieg',\n",
       " 'Buttigieg',\n",
       " 'Buttigieg',\n",
       " 'Buttigieg',\n",
       " 'Buttigieg',\n",
       " 'Buttigieg',\n",
       " 'Buttigieg',\n",
       " 'Buttigieg',\n",
       " 'Buttigieg',\n",
       " 'Buttigieg',\n",
       " 'Buttigieg',\n",
       " 'Buttigieg',\n",
       " 'Buttigieg',\n",
       " 'Buttigieg',\n",
       " 'Buttigieg',\n",
       " 'Buttigieg',\n",
       " 'Buttigieg',\n",
       " 'Buttigieg',\n",
       " 'Buttigieg',\n",
       " 'Buttigieg',\n",
       " 'Klobuchar',\n",
       " 'Klobuchar',\n",
       " 'Klobuchar',\n",
       " 'Klobuchar',\n",
       " 'Klobuchar',\n",
       " 'Klobuchar',\n",
       " 'Klobuchar',\n",
       " 'Klobuchar',\n",
       " 'Klobuchar',\n",
       " 'Klobuchar',\n",
       " 'Klobuchar',\n",
       " 'Klobuchar',\n",
       " 'Klobuchar',\n",
       " 'Klobuchar',\n",
       " 'Klobuchar',\n",
       " 'Klobuchar',\n",
       " 'Klobuchar',\n",
       " 'Klobuchar',\n",
       " 'Klobuchar',\n",
       " 'Klobuchar',\n",
       " 'Klobuchar',\n",
       " 'Klobuchar',\n",
       " 'Klobuchar',\n",
       " 'Klobuchar',\n",
       " 'Yang',\n",
       " 'Yang',\n",
       " 'Sanders',\n",
       " 'Sanders',\n",
       " 'Sanders',\n",
       " 'Sanders',\n",
       " 'Sanders',\n",
       " 'Sanders',\n",
       " 'Sanders',\n",
       " 'Sanders',\n",
       " 'Trump',\n",
       " 'Trump',\n",
       " 'Trump',\n",
       " 'Trump',\n",
       " 'Trump',\n",
       " 'Trump',\n",
       " 'Warren',\n",
       " 'Warren',\n",
       " 'Buttigieg',\n",
       " 'Buttigieg',\n",
       " 'Buttigieg',\n",
       " 'Buttigieg',\n",
       " 'Buttigieg',\n",
       " 'Buttigieg',\n",
       " 'Klobuchar',\n",
       " 'Klobuchar',\n",
       " 'Klobuchar',\n",
       " 'Klobuchar',\n",
       " 'Sanders',\n",
       " 'Sanders',\n",
       " 'Sanders',\n",
       " 'Sanders',\n",
       " 'Sanders',\n",
       " 'Sanders',\n",
       " 'Sanders',\n",
       " 'Sanders',\n",
       " 'Warren',\n",
       " 'Warren',\n",
       " 'Buttigieg',\n",
       " 'Buttigieg',\n",
       " 'Buttigieg',\n",
       " 'Buttigieg',\n",
       " 'Buttigieg',\n",
       " 'Buttigieg',\n",
       " 'Klobuchar',\n",
       " 'Klobuchar',\n",
       " 'Klobuchar',\n",
       " 'Klobuchar',\n",
       " 'Sanders',\n",
       " 'Sanders',\n",
       " 'Sanders',\n",
       " 'Sanders',\n",
       " 'Sanders',\n",
       " 'Sanders',\n",
       " 'Sanders',\n",
       " 'Sanders',\n",
       " 'Warren',\n",
       " 'Warren',\n",
       " 'Buttigieg',\n",
       " 'Buttigieg',\n",
       " 'Buttigieg',\n",
       " 'Buttigieg',\n",
       " 'Buttigieg',\n",
       " 'Buttigieg',\n",
       " 'Klobuchar',\n",
       " 'Klobuchar',\n",
       " 'Klobuchar',\n",
       " 'Klobuchar',\n",
       " 'Sanders',\n",
       " 'Sanders',\n",
       " 'Sanders',\n",
       " 'Sanders',\n",
       " 'Sanders',\n",
       " 'Sanders',\n",
       " 'Sanders',\n",
       " 'Sanders',\n",
       " 'Sanders',\n",
       " 'Sanders',\n",
       " 'Sanders',\n",
       " 'Sanders',\n",
       " 'Sanders',\n",
       " 'Sanders',\n",
       " 'Trump',\n",
       " 'Trump',\n",
       " 'Trump',\n",
       " 'Trump',\n",
       " 'Trump',\n",
       " 'Trump',\n",
       " 'Trump',\n",
       " 'Warren',\n",
       " 'Warren',\n",
       " 'Buttigieg',\n",
       " 'Buttigieg',\n",
       " 'Buttigieg',\n",
       " 'Buttigieg',\n",
       " 'Buttigieg',\n",
       " 'Buttigieg',\n",
       " 'Klobuchar',\n",
       " 'Klobuchar',\n",
       " 'Klobuchar',\n",
       " 'Klobuchar',\n",
       " 'Yang',\n",
       " 'Yang',\n",
       " 'Sanders',\n",
       " 'Sanders',\n",
       " 'Sanders',\n",
       " 'Sanders',\n",
       " 'Sanders',\n",
       " 'Sanders',\n",
       " 'Sanders',\n",
       " 'Sanders',\n",
       " 'Sanders',\n",
       " 'Sanders',\n",
       " 'Sanders',\n",
       " 'Sanders',\n",
       " 'Sanders',\n",
       " 'Sanders',\n",
       " 'Sanders',\n",
       " 'Sanders',\n",
       " 'Sanders',\n",
       " 'Sanders',\n",
       " 'Sanders',\n",
       " 'Sanders',\n",
       " 'Sanders',\n",
       " 'Sanders',\n",
       " 'Sanders',\n",
       " 'Sanders',\n",
       " 'Sanders',\n",
       " 'Trump',\n",
       " 'Trump',\n",
       " 'Trump',\n",
       " 'Trump',\n",
       " 'Warren',\n",
       " 'Warren',\n",
       " 'Buttigieg',\n",
       " 'Buttigieg',\n",
       " 'Buttigieg',\n",
       " 'Buttigieg',\n",
       " 'Buttigieg',\n",
       " 'Buttigieg',\n",
       " 'Buttigieg',\n",
       " 'Buttigieg',\n",
       " 'Buttigieg',\n",
       " 'Buttigieg',\n",
       " 'Buttigieg',\n",
       " 'Buttigieg',\n",
       " 'Buttigieg',\n",
       " 'Klobuchar',\n",
       " 'Klobuchar',\n",
       " 'Klobuchar',\n",
       " 'Klobuchar',\n",
       " 'Klobuchar',\n",
       " 'Klobuchar',\n",
       " 'Klobuchar',\n",
       " 'Klobuchar',\n",
       " 'Sanders',\n",
       " 'Sanders',\n",
       " 'Sanders',\n",
       " 'Sanders',\n",
       " 'Sanders',\n",
       " 'Sanders',\n",
       " 'Sanders',\n",
       " 'Sanders',\n",
       " 'Sanders',\n",
       " 'Sanders',\n",
       " 'Sanders',\n",
       " 'Sanders',\n",
       " 'Sanders',\n",
       " 'Sanders',\n",
       " 'Sanders',\n",
       " 'Sanders',\n",
       " 'Sanders',\n",
       " 'Sanders',\n",
       " 'Sanders',\n",
       " 'Sanders',\n",
       " 'Sanders',\n",
       " 'Sanders',\n",
       " 'Sanders',\n",
       " 'Sanders',\n",
       " 'Sanders',\n",
       " 'Sanders',\n",
       " 'Sanders',\n",
       " 'Sanders',\n",
       " 'Sanders',\n",
       " 'Sanders',\n",
       " 'Sanders',\n",
       " 'Sanders',\n",
       " 'Sanders',\n",
       " 'Sanders',\n",
       " 'Sanders',\n",
       " 'Sanders',\n",
       " 'Sanders',\n",
       " 'Sanders',\n",
       " 'Sanders',\n",
       " 'Sanders',\n",
       " 'Sanders',\n",
       " 'Sanders',\n",
       " 'Sanders',\n",
       " 'Sanders',\n",
       " 'Sanders',\n",
       " 'Sanders',\n",
       " 'Sanders',\n",
       " 'Sanders',\n",
       " 'Sanders',\n",
       " 'Sanders',\n",
       " 'Sanders',\n",
       " 'Sanders',\n",
       " 'Sanders',\n",
       " 'Sanders',\n",
       " 'Sanders',\n",
       " 'Sanders',\n",
       " 'Sanders',\n",
       " 'Sanders',\n",
       " 'Sanders',\n",
       " 'Sanders',\n",
       " 'Sanders',\n",
       " 'Sanders',\n",
       " 'Sanders',\n",
       " 'Sanders',\n",
       " 'Sanders',\n",
       " 'Sanders',\n",
       " 'Sanders',\n",
       " 'Sanders',\n",
       " 'Sanders',\n",
       " 'Sanders',\n",
       " 'Sanders',\n",
       " 'Sanders',\n",
       " 'Sanders',\n",
       " 'Sanders',\n",
       " 'Sanders',\n",
       " 'Sanders',\n",
       " 'Sanders',\n",
       " 'Sanders',\n",
       " 'Sanders',\n",
       " 'Sanders',\n",
       " 'Sanders',\n",
       " 'Sanders',\n",
       " 'Sanders',\n",
       " 'Sanders',\n",
       " 'Sanders',\n",
       " 'Sanders',\n",
       " 'Sanders',\n",
       " 'Sanders',\n",
       " 'Sanders',\n",
       " 'Sanders',\n",
       " 'Sanders',\n",
       " 'Sanders',\n",
       " 'Sanders',\n",
       " 'Sanders',\n",
       " 'Sanders',\n",
       " 'Trump',\n",
       " 'Trump',\n",
       " 'Trump',\n",
       " 'Trump',\n",
       " 'Trump',\n",
       " 'Trump',\n",
       " 'Trump',\n",
       " 'Trump',\n",
       " 'Trump',\n",
       " 'Trump',\n",
       " 'Trump',\n",
       " 'Trump',\n",
       " 'Warren',\n",
       " 'Warren',\n",
       " 'Warren',\n",
       " 'Warren',\n",
       " 'Buttigieg',\n",
       " 'Buttigieg',\n",
       " 'Buttigieg',\n",
       " 'Buttigieg',\n",
       " 'Buttigieg',\n",
       " 'Buttigieg',\n",
       " 'Buttigieg',\n",
       " 'Buttigieg',\n",
       " 'Buttigieg',\n",
       " 'Buttigieg',\n",
       " 'Klobuchar',\n",
       " 'Klobuchar',\n",
       " 'Klobuchar',\n",
       " 'Klobuchar',\n",
       " 'Klobuchar',\n",
       " 'Klobuchar',\n",
       " 'Klobuchar',\n",
       " 'Klobuchar',\n",
       " 'Sanders',\n",
       " 'Sanders',\n",
       " 'Sanders',\n",
       " 'Sanders',\n",
       " 'Sanders',\n",
       " 'Sanders',\n",
       " 'Sanders',\n",
       " 'Sanders',\n",
       " 'Sanders',\n",
       " 'Sanders',\n",
       " 'Sanders',\n",
       " 'Sanders',\n",
       " 'Sanders',\n",
       " 'Sanders',\n",
       " 'Sanders',\n",
       " 'Sanders',\n",
       " 'Sanders',\n",
       " 'Sanders',\n",
       " 'Warren',\n",
       " 'Warren',\n",
       " 'Warren',\n",
       " 'Warren',\n",
       " 'Warren',\n",
       " 'Warren',\n",
       " 'Buttigieg',\n",
       " 'Buttigieg',\n",
       " 'Buttigieg',\n",
       " 'Buttigieg',\n",
       " 'Buttigieg',\n",
       " 'Buttigieg',\n",
       " 'Buttigieg',\n",
       " 'Buttigieg',\n",
       " 'Buttigieg',\n",
       " 'Buttigieg',\n",
       " 'Buttigieg',\n",
       " 'Klobuchar',\n",
       " 'Klobuchar',\n",
       " 'Klobuchar',\n",
       " 'Klobuchar',\n",
       " 'Klobuchar',\n",
       " 'Klobuchar',\n",
       " 'Klobuchar',\n",
       " 'Klobuchar',\n",
       " '"
      ]
     },
     "execution_count": 181,
     "metadata": {},
     "output_type": "execute_result"
    },
    {
     "data": {
      "text/html": [
       "<b>limit_output extension: Maximum message size of 10000 exceeded with 11759 characters</b>"
      ]
     },
     "metadata": {},
     "output_type": "display_data"
    }
   ],
   "source": [
    "name_list"
   ]
  },
  {
   "cell_type": "code",
   "execution_count": 182,
   "metadata": {
    "ExecuteTime": {
     "end_time": "2020-02-14T19:25:33.927048Z",
     "start_time": "2020-02-14T19:25:33.742298Z"
    }
   },
   "outputs": [
    {
     "data": {
      "text/plain": [
       "<matplotlib.image.AxesImage at 0x7f42945cfeb0>"
      ]
     },
     "execution_count": 182,
     "metadata": {},
     "output_type": "execute_result"
    },
    {
     "data": {
      "image/png": "[encoded data removed]",
      "text/plain": [
       "<Figure size 432x288 with 1 Axes>"
      ]
     },
     "metadata": {
      "needs_background": "light"
     },
     "output_type": "display_data"
    }
   ],
   "source": [
    "%matplotlib inline\n",
    "\n",
    "name_text = ' '.join(name_list)\n",
    "\n",
    "wordcloud = WordCloud(background_color=\"white\", collocations=False).generate(name_text)\n",
    "\n",
    "plt.imshow(wordcloud)"
   ]
  }
 ],
 "metadata": {
  "hide_input": false,
  "kernelspec": {
   "display_name": "Python 3.8.1 64-bit",
   "language": "python",
   "name": "python38164bitd40c871d30b943ef8f3058cb9d47a4f2"
  },
  "language_info": {
   "codemirror_mode": {
    "name": "ipython",
    "version": 3
   },
   "file_extension": ".py",
   "mimetype": "text/x-python",
   "name": "python",
   "nbconvert_exporter": "python",
   "pygments_lexer": "ipython3",
   "version": "3.8.1"
  },
  "latex_envs": {
   "LaTeX_envs_menu_present": true,
   "autoclose": false,
   "autocomplete": true,
   "bibliofile": "biblio.bib",
   "cite_by": "apalike",
   "current_citInitial": 1,
   "eqLabelWithNumbers": true,
   "eqNumInitial": 1,
   "hotkeys": {
    "equation": "Ctrl-E",
    "itemize": "Ctrl-I"
   },
   "labels_anchors": false,
   "latex_user_defs": false,
   "report_style_numbering": false,
   "user_envs_cfg": false
  },
  "nbTranslate": {
   "displayLangs": [
    "*"
   ],
   "hotkey": "alt-t",
   "langInMainMenu": true,
   "sourceLang": "en",
   "targetLang": "fr",
   "useGoogleTranslate": true
  },
  "varInspector": {
   "cols": {
    "lenName": 16,
    "lenType": 16,
    "lenVar": 40
   },
   "kernels_config": {
    "python": {
     "delete_cmd_postfix": "",
     "delete_cmd_prefix": "del ",
     "library": "var_list.py",
     "varRefreshCmd": "print(var_dic_list())"
    },
    "r": {
     "delete_cmd_postfix": ") ",
     "delete_cmd_prefix": "rm(",
     "library": "var_list.r",
     "varRefreshCmd": "cat(var_dic_list()) "
    }
   },
   "types_to_exclude": [
    "module",
    "function",
    "builtin_function_or_method",
    "instance",
    "_Feature"
   ],
   "window_display": false
  }
 },
 "nbformat": 4,
 "nbformat_minor": 2
}
