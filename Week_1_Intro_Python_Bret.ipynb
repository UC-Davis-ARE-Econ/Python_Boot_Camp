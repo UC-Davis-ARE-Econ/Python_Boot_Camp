{
 "cells": [
  {
   "cell_type": "markdown",
   "metadata": {},
   "source": [
    "# Hi. "
   ]
  },
  {
   "cell_type": "markdown",
   "metadata": {},
   "source": [
    "# Thanks for coming."
   ]
  },
  {
   "cell_type": "markdown",
   "metadata": {},
   "source": [
    "So, this is probably a  bit more normal of a session (I hope). Someone will give a small presentation reviewing the reading and talking about some new concept. That's all subject to change given group feedbcak though. We'll see how it goes today. "
   ]
  },
  {
   "cell_type": "markdown",
   "metadata": {},
   "source": [
    "Some of you may notice that this is a Jupyter Notebook. What I like about Jupyter Notebooks is that I can annotate my code in a clear and concise way. I'll first show you how to do what I am doing now. First, you want to start with a blank cell, like the one below. Notice the \"In [ ]:\", this means that it is a code cell. Thus, if you type code and run the cell, it will perform the tasks you ask it to. In order to change it to a markdown cell you can click on the cell, then go Cell -> Cell Type -> Markdown. You can also click into the cell, then use the dropdown menu at the top to change the cell to markdown. Alternatively you can go into \"command mode\" by clicking on the cell, then pressing Esc. You will know that you are in command mode because the cell wall will be blue. You can then press \"m\" to turn it into a markdown cell. You can change it back by pressing \"y\".  "
   ]
  },
  {
   "cell_type": "code",
   "execution_count": null,
   "metadata": {},
   "outputs": [],
   "source": []
  },
  {
   "cell_type": "markdown",
   "metadata": {},
   "source": [
    "There are all sorts of short cuts for Jupyter. To look at all of them you can enter command mode and press \"h\". If you'd prefer a bookmarked website, for Windows users I'd recommend: \n",
    "\n",
    "https://www.cheatography.com/weidadeyue/cheat-sheets/jupyter-notebook/\n",
    "\n",
    "For Mac Users:\n",
    "\n",
    "https://treehouse-code-samples.s3.amazonaws.com/Python/jupyter-shortcuts.pdf"
   ]
  },
  {
   "cell_type": "markdown",
   "metadata": {},
   "source": [
    "If you're not familiar with Markdown, its like a simpler version of Latex. Here is a good resource for some common commands:\n",
    "\n",
    "https://www.markdownguide.org/cheat-sheet/"
   ]
  },
  {
   "cell_type": "markdown",
   "metadata": {},
   "source": [
    "You can also use symbols in both markdown and in your code, which is kind of cool. To type theta in markdown you will want to surround \\theta by \\$ signs"
   ]
  },
  {
   "cell_type": "markdown",
   "metadata": {},
   "source": [
    "$\\theta$"
   ]
  },
  {
   "cell_type": "markdown",
   "metadata": {},
   "source": [
    "To use a greek letter in your code, you can just type \\theta than press tab."
   ]
  },
  {
   "cell_type": "code",
   "execution_count": 2,
   "metadata": {},
   "outputs": [
    {
     "data": {
      "text/plain": [
       "5"
      ]
     },
     "execution_count": 2,
     "metadata": {},
     "output_type": "execute_result"
    }
   ],
   "source": [
    "θ = 3\n",
    "θ +2 "
   ]
  },
  {
   "cell_type": "markdown",
   "metadata": {},
   "source": [
    "Lastly, who's bad at spelling? I am the worst. Jupyter does not have a built in spell check. To install one, open Anaconda prompt. Then enter these commands: \n",
    "\n",
    "pip install jupyter_contrib_nbextensions\n",
    "jupyter contrib nbextension install --user\n",
    "jupyter nbextension enable spellchecker/main\n",
    "\n",
    "Then open Jupyter Notebooks and you should see the little abc button. This is an extension for spell check!"
   ]
  },
  {
   "cell_type": "markdown",
   "metadata": {},
   "source": [
    "## Questions?"
   ]
  },
  {
   "cell_type": "markdown",
   "metadata": {},
   "source": [
    "Radical. Let's move on to the reading review. Who did the reading? Nice. I figured a brief review of the major points would be useful. Don't feel pressured to read if you're busy. I encourage the presenter to always give a timely overview of the reading. "
   ]
  },
  {
   "cell_type": "markdown",
   "metadata": {},
   "source": [
    "# Chapter 1 - About Python"
   ]
  },
  {
   "cell_type": "markdown",
   "metadata": {},
   "source": [
    "Python is important. People use it for a lot of stuff. \n",
    "\n",
    "We're going to use a lot of packages. Personally, I'm not sure the best way to deal with them. I'm primarily a Stata user, so package management is never something I've had to deal with. R users, how do you normally deal with the packages you always use?"
   ]
  },
  {
   "cell_type": "markdown",
   "metadata": {},
   "source": [
    "Responses:\n",
    "\n"
   ]
  },
  {
   "cell_type": "markdown",
   "metadata": {},
   "source": [
    "The fundamental packages we will use are the following (plus some extras): \n",
    "\n",
    "- Pandas: Data management\n",
    "    - https://pandas.pydata.org/Pandas_Cheat_Sheet.pdf\n",
    "- Numpy: Matrix and array programing\n",
    "    - https://s3.amazonaws.com/assets.datacamp.com/blog_assets/Numpy_Python_Cheat_Sheet.pdf\n",
    "- Scipy: More math stuff \n",
    "    - https://s3.amazonaws.com/assets.datacamp.com/blog_assets/Python_SciPy_Cheat_Sheet_Linear_Algebra.pdf\n",
    "- Matplotlib: Graphics\n",
    "    - https://s3.amazonaws.com/assets.datacamp.com/blog_assets/Python_Matplotlib_Cheat_Sheet.pdf\n",
    "- Sympy: Symbolic math (Similar to Maple of Mathmatica)\n",
    "    - http://daabzlatex.s3.amazonaws.com/9065616cce623384fe5394eddfea4c52.pdf\n",
    "- statsmodels: Regression stuff\n"
   ]
  },
  {
   "cell_type": "markdown",
   "metadata": {},
   "source": [
    "# Chapter 2 - Setting up Your Python Environment"
   ]
  },
  {
   "cell_type": "markdown",
   "metadata": {},
   "source": [
    "Mostly about setting up Anaconda and using Jupyter (covered above)."
   ]
  },
  {
   "cell_type": "markdown",
   "metadata": {},
   "source": [
    "They also talk about how to install packages. One way is using pip."
   ]
  },
  {
   "cell_type": "code",
   "execution_count": 4,
   "metadata": {},
   "outputs": [
    {
     "name": "stdout",
     "output_type": "stream",
     "text": [
      "Requirement already satisfied: quantecon in c:\\users\\bretd\\anaconda3\\lib\\site-packages (0.4.5)\n",
      "Requirement already satisfied: requests in c:\\users\\bretd\\anaconda3\\lib\\site-packages (from quantecon) (2.21.0)\n",
      "Requirement already satisfied: scipy>=1.0.0 in c:\\users\\bretd\\anaconda3\\lib\\site-packages (from quantecon) (1.2.1)\n",
      "Requirement already satisfied: numba>=0.38 in c:\\users\\bretd\\anaconda3\\lib\\site-packages (from quantecon) (0.43.1)\n",
      "Requirement already satisfied: sympy in c:\\users\\bretd\\anaconda3\\lib\\site-packages (from quantecon) (1.3)\n",
      "Requirement already satisfied: numpy in c:\\users\\bretd\\anaconda3\\lib\\site-packages (from quantecon) (1.16.2)\n",
      "Requirement already satisfied: chardet<3.1.0,>=3.0.2 in c:\\users\\bretd\\anaconda3\\lib\\site-packages (from requests->quantecon) (3.0.4)\n",
      "Requirement already satisfied: urllib3<1.25,>=1.21.1 in c:\\users\\bretd\\anaconda3\\lib\\site-packages (from requests->quantecon) (1.24.1)\n",
      "Requirement already satisfied: certifi>=2017.4.17 in c:\\users\\bretd\\anaconda3\\lib\\site-packages (from requests->quantecon) (2019.3.9)\n",
      "Requirement already satisfied: idna<2.9,>=2.5 in c:\\users\\bretd\\anaconda3\\lib\\site-packages (from requests->quantecon) (2.8)\n",
      "Requirement already satisfied: llvmlite>=0.28.0dev0 in c:\\users\\bretd\\anaconda3\\lib\\site-packages (from numba>=0.38->quantecon) (0.28.0)\n"
     ]
    }
   ],
   "source": [
    "!pip install quantecon"
   ]
  },
  {
   "cell_type": "markdown",
   "metadata": {},
   "source": [
    "Some of you may be thinking, \"Why is there a little exclamation point at the beginning of that command?\". In truth, I don't really know. I looked it up and it seems like it has something to do with pip being a shell command. I don't really know what that means. Does anyone else? The command seems to also work without the exclamation as well?"
   ]
  },
  {
   "cell_type": "code",
   "execution_count": 5,
   "metadata": {},
   "outputs": [
    {
     "name": "stdout",
     "output_type": "stream",
     "text": [
      "Requirement already satisfied: quantecon in c:\\users\\bretd\\anaconda3\\lib\\site-packages (0.4.5)\n",
      "Requirement already satisfied: numpy in c:\\users\\bretd\\anaconda3\\lib\\site-packages (from quantecon) (1.16.2)\n",
      "Requirement already satisfied: scipy>=1.0.0 in c:\\users\\bretd\\anaconda3\\lib\\site-packages (from quantecon) (1.2.1)\n",
      "Requirement already satisfied: requests in c:\\users\\bretd\\anaconda3\\lib\\site-packages (from quantecon) (2.21.0)\n",
      "Requirement already satisfied: sympy in c:\\users\\bretd\\anaconda3\\lib\\site-packages (from quantecon) (1.3)\n",
      "Requirement already satisfied: numba>=0.38 in c:\\users\\bretd\\anaconda3\\lib\\site-packages (from quantecon) (0.43.1)\n",
      "Requirement already satisfied: certifi>=2017.4.17 in c:\\users\\bretd\\anaconda3\\lib\\site-packages (from requests->quantecon) (2019.3.9)\n",
      "Requirement already satisfied: urllib3<1.25,>=1.21.1 in c:\\users\\bretd\\anaconda3\\lib\\site-packages (from requests->quantecon) (1.24.1)\n",
      "Requirement already satisfied: chardet<3.1.0,>=3.0.2 in c:\\users\\bretd\\anaconda3\\lib\\site-packages (from requests->quantecon) (3.0.4)\n",
      "Requirement already satisfied: idna<2.9,>=2.5 in c:\\users\\bretd\\anaconda3\\lib\\site-packages (from requests->quantecon) (2.8)\n",
      "Requirement already satisfied: llvmlite>=0.28.0dev0 in c:\\users\\bretd\\anaconda3\\lib\\site-packages (from numba>=0.38->quantecon) (0.28.0)\n",
      "Note: you may need to restart the kernel to use updated packages.\n"
     ]
    }
   ],
   "source": [
    "pip install quantecon"
   ]
  },
  {
   "cell_type": "markdown",
   "metadata": {},
   "source": [
    "So ¯\\\\\\_(ツ)_/¯"
   ]
  },
  {
   "cell_type": "markdown",
   "metadata": {},
   "source": [
    "You can also use the upgrade subcommand for pip:"
   ]
  },
  {
   "cell_type": "code",
   "execution_count": 6,
   "metadata": {},
   "outputs": [
    {
     "name": "stdout",
     "output_type": "stream",
     "text": [
      "Requirement already up-to-date: quantecon in c:\\users\\bretd\\anaconda3\\lib\\site-packages (0.4.5)\n",
      "Requirement already satisfied, skipping upgrade: scipy>=1.0.0 in c:\\users\\bretd\\anaconda3\\lib\\site-packages (from quantecon) (1.2.1)\n",
      "Requirement already satisfied, skipping upgrade: numba>=0.38 in c:\\users\\bretd\\anaconda3\\lib\\site-packages (from quantecon) (0.43.1)\n",
      "Requirement already satisfied, skipping upgrade: sympy in c:\\users\\bretd\\anaconda3\\lib\\site-packages (from quantecon) (1.3)\n",
      "Requirement already satisfied, skipping upgrade: requests in c:\\users\\bretd\\anaconda3\\lib\\site-packages (from quantecon) (2.21.0)\n",
      "Requirement already satisfied, skipping upgrade: numpy in c:\\users\\bretd\\anaconda3\\lib\\site-packages (from quantecon) (1.16.2)\n",
      "Requirement already satisfied, skipping upgrade: llvmlite>=0.28.0dev0 in c:\\users\\bretd\\anaconda3\\lib\\site-packages (from numba>=0.38->quantecon) (0.28.0)\n",
      "Requirement already satisfied, skipping upgrade: certifi>=2017.4.17 in c:\\users\\bretd\\anaconda3\\lib\\site-packages (from requests->quantecon) (2019.3.9)\n",
      "Requirement already satisfied, skipping upgrade: idna<2.9,>=2.5 in c:\\users\\bretd\\anaconda3\\lib\\site-packages (from requests->quantecon) (2.8)\n",
      "Requirement already satisfied, skipping upgrade: urllib3<1.25,>=1.21.1 in c:\\users\\bretd\\anaconda3\\lib\\site-packages (from requests->quantecon) (1.24.1)\n",
      "Requirement already satisfied, skipping upgrade: chardet<3.1.0,>=3.0.2 in c:\\users\\bretd\\anaconda3\\lib\\site-packages (from requests->quantecon) (3.0.4)\n",
      "Note: you may need to restart the kernel to use updated packages.\n"
     ]
    }
   ],
   "source": [
    "pip install --upgrade quantecon"
   ]
  },
  {
   "cell_type": "markdown",
   "metadata": {},
   "source": [
    "They give you some basic commands:"
   ]
  },
  {
   "cell_type": "code",
   "execution_count": 7,
   "metadata": {},
   "outputs": [
    {
     "data": {
      "text/plain": [
       "'C:\\\\Users\\\\bretd\\\\Box\\\\PhD\\\\Python'"
      ]
     },
     "execution_count": 7,
     "metadata": {},
     "output_type": "execute_result"
    }
   ],
   "source": [
    "pwd"
   ]
  },
  {
   "cell_type": "code",
   "execution_count": 8,
   "metadata": {},
   "outputs": [
    {
     "name": "stdout",
     "output_type": "stream",
     "text": [
      " Volume in drive C is Windows\n",
      " Volume Serial Number is 4AC5-C707\n",
      "\n",
      " Directory of C:\\Users\\bretd\\Box\\PhD\\Python\n",
      "\n",
      "12/06/2019  11:23 AM    <DIR>          .\n",
      "12/06/2019  11:23 AM    <DIR>          ..\n",
      "12/06/2019  01:26 AM    <DIR>          .ipynb_checkpoints\n",
      "07/11/2019  04:17 PM         (617,970) Cheat_sheet.pdf\n",
      "07/19/2019  01:43 PM    <DIR>          Learning\n",
      "12/06/2019  11:23 AM            26,670 Python_Group_Reading_Review.ipynb\n",
      "07/11/2019  04:16 PM      (20,391,584) Quantitative Economics with Python.pdf\n",
      "12/05/2019  10:11 PM             (684) test.ipynb\n",
      "12/05/2019  10:16 PM              (14) test2.py\n",
      "               5 File(s)     21,045,114 bytes\n",
      "               4 Dir(s)  403,475,337,216 bytes free\n"
     ]
    }
   ],
   "source": [
    "ls"
   ]
  },
  {
   "cell_type": "code",
   "execution_count": 9,
   "metadata": {},
   "outputs": [
    {
     "name": "stdout",
     "output_type": "stream",
     "text": [
      "Nice\n"
     ]
    }
   ],
   "source": [
    "run test.ipynb"
   ]
  },
  {
   "cell_type": "code",
   "execution_count": 10,
   "metadata": {},
   "outputs": [
    {
     "name": "stdout",
     "output_type": "stream",
     "text": [
      "C:\\Users\\bretd\\Desktop\n"
     ]
    }
   ],
   "source": [
    "cd C:\\Users\\bretd\\Desktop"
   ]
  },
  {
   "cell_type": "code",
   "execution_count": 11,
   "metadata": {},
   "outputs": [
    {
     "data": {
      "text/plain": [
       "'C:\\\\Users\\\\bretd\\\\Desktop'"
      ]
     },
     "execution_count": 11,
     "metadata": {},
     "output_type": "execute_result"
    }
   ],
   "source": [
    "pwd"
   ]
  },
  {
   "cell_type": "code",
   "execution_count": 12,
   "metadata": {},
   "outputs": [
    {
     "name": "stdout",
     "output_type": "stream",
     "text": [
      "C:\\Users\\bretd\\Box\\PhD\\Python\n"
     ]
    }
   ],
   "source": [
    "cd C:\\\\Users\\\\bretd\\\\Box\\\\PhD\\\\Python"
   ]
  },
  {
   "cell_type": "markdown",
   "metadata": {},
   "source": [
    "You can also save just the code from one cell as a file:"
   ]
  },
  {
   "cell_type": "code",
   "execution_count": 13,
   "metadata": {},
   "outputs": [
    {
     "name": "stdout",
     "output_type": "stream",
     "text": [
      "Overwriting test2.py\n"
     ]
    }
   ],
   "source": [
    "%%file test2.py\n",
    "print(Niice)"
   ]
  },
  {
   "cell_type": "code",
   "execution_count": 14,
   "metadata": {},
   "outputs": [
    {
     "name": "stdout",
     "output_type": "stream",
     "text": [
      " Volume in drive C is Windows\n",
      " Volume Serial Number is 4AC5-C707\n",
      "\n",
      " Directory of C:\\Users\\bretd\\Box\\PhD\\Python\n",
      "\n",
      "12/06/2019  11:25 AM    <DIR>          .\n",
      "12/06/2019  11:25 AM    <DIR>          ..\n",
      "12/06/2019  01:26 AM    <DIR>          .ipynb_checkpoints\n",
      "07/11/2019  04:17 PM         (617,970) Cheat_sheet.pdf\n",
      "07/19/2019  01:43 PM    <DIR>          Learning\n",
      "12/06/2019  11:27 AM            30,363 Python_Group_Reading_Review.ipynb\n",
      "07/11/2019  04:16 PM      (20,391,584) Quantitative Economics with Python.pdf\n",
      "12/05/2019  10:11 PM               684 test.ipynb\n",
      "12/06/2019  11:26 AM                14 test2.py\n",
      "               5 File(s)     21,048,807 bytes\n",
      "               4 Dir(s)  403,475,091,456 bytes free\n"
     ]
    }
   ],
   "source": [
    "ls"
   ]
  },
  {
   "cell_type": "markdown",
   "metadata": {},
   "source": [
    "# Chapter 3 - An Introductory Example"
   ]
  },
  {
   "cell_type": "markdown",
   "metadata": {},
   "source": [
    "This chapter uses an example to show you some more commands. I'm just going to show you those commands."
   ]
  },
  {
   "cell_type": "code",
   "execution_count": 15,
   "metadata": {},
   "outputs": [
    {
     "ename": "NameError",
     "evalue": "name 'numpy' is not defined",
     "output_type": "error",
     "traceback": [
      "\u001b[1;31m---------------------------------------------------------------------------\u001b[0m",
      "\u001b[1;31mNameError\u001b[0m                                 Traceback (most recent call last)",
      "\u001b[1;32m<ipython-input-15-5ceca1fb2761>\u001b[0m in \u001b[0;36m<module>\u001b[1;34m\u001b[0m\n\u001b[1;32m----> 1\u001b[1;33m \u001b[0ma\u001b[0m \u001b[1;33m=\u001b[0m \u001b[0mnumpy\u001b[0m\u001b[1;33m.\u001b[0m\u001b[0marray\u001b[0m\u001b[1;33m(\u001b[0m\u001b[1;33m[\u001b[0m\u001b[1;36m1\u001b[0m\u001b[1;33m,\u001b[0m\u001b[1;36m2\u001b[0m\u001b[1;33m,\u001b[0m\u001b[1;36m3\u001b[0m\u001b[1;33m]\u001b[0m\u001b[1;33m)\u001b[0m\u001b[1;33m\u001b[0m\u001b[1;33m\u001b[0m\u001b[0m\n\u001b[0m\u001b[0;32m      2\u001b[0m \u001b[0ma\u001b[0m\u001b[1;33m\u001b[0m\u001b[1;33m\u001b[0m\u001b[0m\n",
      "\u001b[1;31mNameError\u001b[0m: name 'numpy' is not defined"
     ]
    }
   ],
   "source": [
    "a = numpy.array([1,2,3])\n",
    "a"
   ]
  },
  {
   "cell_type": "code",
   "execution_count": 16,
   "metadata": {},
   "outputs": [],
   "source": [
    "import numpy"
   ]
  },
  {
   "cell_type": "code",
   "execution_count": 17,
   "metadata": {},
   "outputs": [
    {
     "data": {
      "text/plain": [
       "array([1, 2, 3])"
      ]
     },
     "execution_count": 17,
     "metadata": {},
     "output_type": "execute_result"
    }
   ],
   "source": [
    "a = numpy.array([1,2,3])\n",
    "a"
   ]
  },
  {
   "cell_type": "markdown",
   "metadata": {},
   "source": [
    "We can name numpy anything we want. That way we don't have to type it out every time:"
   ]
  },
  {
   "cell_type": "code",
   "execution_count": 18,
   "metadata": {},
   "outputs": [
    {
     "data": {
      "text/plain": [
       "array([7, 7, 7])"
      ]
     },
     "execution_count": 18,
     "metadata": {},
     "output_type": "execute_result"
    }
   ],
   "source": [
    "import numpy as np\n",
    "b = np.array([7,7,7])\n",
    "b"
   ]
  },
  {
   "cell_type": "markdown",
   "metadata": {},
   "source": [
    "Arrays are cool things in Numpy that we will talk about later. They are basically vectors. We'll go more into Numpy later. "
   ]
  },
  {
   "cell_type": "markdown",
   "metadata": {},
   "source": [
    "There are packages, like numpy, but there are also subpackages:"
   ]
  },
  {
   "cell_type": "code",
   "execution_count": 19,
   "metadata": {},
   "outputs": [
    {
     "data": {
      "text/plain": [
       "array([ 0.09088725,  1.51097508,  0.14052667, -0.19673787,  0.86377817,\n",
       "       -0.8030622 ,  0.49394908,  0.77685268,  0.21020867,  1.97482111])"
      ]
     },
     "execution_count": 19,
     "metadata": {},
     "output_type": "execute_result"
    }
   ],
   "source": [
    "x = np.random.randn(10)\n",
    "x"
   ]
  },
  {
   "cell_type": "markdown",
   "metadata": {},
   "source": [
    "This is how you do a loop in Python:"
   ]
  },
  {
   "cell_type": "code",
   "execution_count": 20,
   "metadata": {},
   "outputs": [
    {
     "name": "stdout",
     "output_type": "stream",
     "text": [
      "0\n",
      "1\n",
      "2\n",
      "3\n",
      "4\n"
     ]
    }
   ],
   "source": [
    "for i in range(5):\n",
    "    print(i)"
   ]
  },
  {
   "cell_type": "markdown",
   "metadata": {},
   "source": [
    "A couple things to note:\n",
    "- The list starts at 0. This is because Python is indexed to 0. Any automatically made list in Python will start at 0. \n",
    "- You have to start your loop with \":\". This is like \"{\" in Stata loops\n",
    "- You HAVE to indent the first thing in your loop. Ending the indentation ends the loop."
   ]
  },
  {
   "cell_type": "markdown",
   "metadata": {},
   "source": [
    "We can also use *while* loops:"
   ]
  },
  {
   "cell_type": "code",
   "execution_count": 21,
   "metadata": {},
   "outputs": [
    {
     "name": "stdout",
     "output_type": "stream",
     "text": [
      "0\n",
      "1\n",
      "2\n",
      "3\n",
      "4\n"
     ]
    }
   ],
   "source": [
    "i = 0\n",
    "while i < 5:\n",
    "    print(i)\n",
    "    i = i + 1\n"
   ]
  },
  {
   "cell_type": "markdown",
   "metadata": {},
   "source": [
    "Can also say:"
   ]
  },
  {
   "cell_type": "code",
   "execution_count": 22,
   "metadata": {},
   "outputs": [
    {
     "name": "stdout",
     "output_type": "stream",
     "text": [
      "0\n",
      "1\n",
      "2\n",
      "3\n",
      "4\n"
     ]
    }
   ],
   "source": [
    "i = 0\n",
    "while i < 5:\n",
    "    print(i)\n",
    "    i += 1"
   ]
  },
  {
   "cell_type": "markdown",
   "metadata": {},
   "source": [
    "You can also loop over things like lists:"
   ]
  },
  {
   "cell_type": "code",
   "execution_count": 23,
   "metadata": {},
   "outputs": [
    {
     "name": "stdout",
     "output_type": "stream",
     "text": [
      "2\n",
      "3\n",
      "4\n"
     ]
    }
   ],
   "source": [
    "loop_lis = [2,3,4]\n",
    "for i in loop_lis:\n",
    "    print(i)"
   ]
  },
  {
   "cell_type": "markdown",
   "metadata": {},
   "source": [
    "Have you had two lists of things and needed to map them? I have. Stata generally sucks at it. Python has a cool command called zip(). Check it out. "
   ]
  },
  {
   "cell_type": "code",
   "execution_count": 24,
   "metadata": {},
   "outputs": [
    {
     "name": "stdout",
     "output_type": "stream",
     "text": [
      "Bret is a human\n",
      "Oliver is a cat\n",
      "Gryffin is a dog\n"
     ]
    }
   ],
   "source": [
    "names = (\"Bret\", \"Oliver\", \"Gryffin\")\n",
    "nouns = (\"human\", \"cat\", \"dog\")\n",
    "\n",
    "for name, noun in zip(names, nouns):\n",
    "    print(f\"{name} is a {noun}\")\n"
   ]
  },
  {
   "cell_type": "markdown",
   "metadata": {},
   "source": [
    "Where the \"f\" in the print function means format. It allows us to put variables in strings. "
   ]
  },
  {
   "cell_type": "markdown",
   "metadata": {},
   "source": [
    "There is a similar syntax to functions:"
   ]
  },
  {
   "cell_type": "code",
   "execution_count": 25,
   "metadata": {},
   "outputs": [
    {
     "name": "stdout",
     "output_type": "stream",
     "text": [
      "whiz\n"
     ]
    }
   ],
   "source": [
    "def cheez(x):\n",
    "    print(x)\n",
    "\n",
    "cheez(\"whiz\")"
   ]
  },
  {
   "cell_type": "markdown",
   "metadata": {},
   "source": [
    "Lets talk about lists. A list is just a collection of stuff. Any stuffs. This can be numbers, strings, or Boolean operators. They are convenient, albeit limited in some ways. If you want to use them like a vector, you're better off using numpy arrays because the operators work better. That said, here's a list: "
   ]
  },
  {
   "cell_type": "code",
   "execution_count": 53,
   "metadata": {},
   "outputs": [
    {
     "data": {
      "text/plain": [
       "[1, 'fish', 2, 'fish', 'red', 'fish', True, 'fish']"
      ]
     },
     "execution_count": 53,
     "metadata": {},
     "output_type": "execute_result"
    }
   ],
   "source": [
    "x = [1, \"fish\", 2, \"fish\", \"red\", \"fish\", True, \"fish\"]\n",
    "x"
   ]
  },
  {
   "cell_type": "markdown",
   "metadata": {},
   "source": [
    "You can add things to a list by using the append *method*:"
   ]
  },
  {
   "cell_type": "code",
   "execution_count": 27,
   "metadata": {},
   "outputs": [
    {
     "data": {
      "text/plain": [
       "[1, 'fish', 2, 'fish', 'red', 'fish', True, 'fish', 'by Dr. Seuss']"
      ]
     },
     "execution_count": 27,
     "metadata": {},
     "output_type": "execute_result"
    }
   ],
   "source": [
    "x.append(\"by Dr. Seuss\")\n",
    "x"
   ]
  },
  {
   "cell_type": "markdown",
   "metadata": {},
   "source": [
    "You can also get rid of the last thing in a list by using the pop method:"
   ]
  },
  {
   "cell_type": "code",
   "execution_count": 33,
   "metadata": {},
   "outputs": [
    {
     "data": {
      "text/plain": [
       "5"
      ]
     },
     "execution_count": 33,
     "metadata": {},
     "output_type": "execute_result"
    }
   ],
   "source": [
    "y = [1,2,3,4,5,6,7]\n",
    "y.pop(-3)"
   ]
  },
  {
   "cell_type": "code",
   "execution_count": 31,
   "metadata": {},
   "outputs": [
    {
     "data": {
      "text/plain": [
       "[1, 'fish', 2, 'red', 'fish', True, 'fish']"
      ]
     },
     "execution_count": 31,
     "metadata": {},
     "output_type": "execute_result"
    }
   ],
   "source": [
    "x"
   ]
  },
  {
   "cell_type": "markdown",
   "metadata": {},
   "source": [
    "To look at an individual element in a list:"
   ]
  },
  {
   "cell_type": "code",
   "execution_count": 34,
   "metadata": {},
   "outputs": [
    {
     "data": {
      "text/plain": [
       "1"
      ]
     },
     "execution_count": 34,
     "metadata": {},
     "output_type": "execute_result"
    }
   ],
   "source": [
    "x[0]"
   ]
  },
  {
   "cell_type": "code",
   "execution_count": 35,
   "metadata": {},
   "outputs": [
    {
     "data": {
      "text/plain": [
       "'fish'"
      ]
     },
     "execution_count": 35,
     "metadata": {},
     "output_type": "execute_result"
    }
   ],
   "source": [
    "x[1]"
   ]
  },
  {
   "cell_type": "markdown",
   "metadata": {},
   "source": [
    "*List comprehensions* are also a cool part of Python. With a list comprehension, you can create list, like you would using a loop, but without the loop. The basic syntax of a list comprehension is:\n",
    "\n",
    "[ expression for item in list if conditional ]\n",
    "\n",
    "This is the same as:\n",
    "\n",
    "for item in list:\n",
    "    \n",
    "    if conditional:\n",
    "    \n",
    "        expression"
   ]
  },
  {
   "cell_type": "code",
   "execution_count": 36,
   "metadata": {},
   "outputs": [
    {
     "data": {
      "text/plain": [
       "[0, 2, 4, 6, 8, 10, 14, 16, 18]"
      ]
     },
     "execution_count": 36,
     "metadata": {},
     "output_type": "execute_result"
    }
   ],
   "source": [
    "comp = [2 * i for i in range(10) if i != 6]\n",
    "comp"
   ]
  },
  {
   "cell_type": "markdown",
   "metadata": {},
   "source": [
    "We can also use larger conditional statements in Python:"
   ]
  },
  {
   "cell_type": "code",
   "execution_count": 40,
   "metadata": {},
   "outputs": [
    {
     "name": "stdout",
     "output_type": "stream",
     "text": [
      "['fish', 'red', 'fish', 'fish']\n",
      "[1, 2]\n",
      "[True]\n"
     ]
    }
   ],
   "source": [
    "def seperator(x):\n",
    "    \"\"\"\n",
    "    This function seprtates a list into 3 lists that identify their data types\n",
    "    \"\"\"\n",
    "    string = []\n",
    "    inter = []\n",
    "    boo = []\n",
    "    list_len = len(x)\n",
    "    for i in range(list_len):\n",
    "        if type(x[i]) == str:\n",
    "            string.append(x[i])\n",
    "        elif type(x[i]) == int: \n",
    "            inter.append(x[i])\n",
    "        else:\n",
    "            boo.append(x[i])\n",
    "    print(string) \n",
    "    print(inter) \n",
    "    print(boo)\n",
    "\n",
    "seperator(x)"
   ]
  },
  {
   "cell_type": "markdown",
   "metadata": {},
   "source": [
    "Where \"len()\" returns the length of list x, type() returns the type of variable the element is, and elif is shorthand for \"else if\". "
   ]
  },
  {
   "cell_type": "code",
   "execution_count": 38,
   "metadata": {},
   "outputs": [],
   "source": [
    "seperator?"
   ]
  },
  {
   "cell_type": "code",
   "execution_count": 39,
   "metadata": {},
   "outputs": [],
   "source": [
    "seperator??"
   ]
  },
  {
   "cell_type": "markdown",
   "metadata": {},
   "source": [
    "We can also combine if statements with \"and\":"
   ]
  },
  {
   "cell_type": "code",
   "execution_count": 41,
   "metadata": {},
   "outputs": [
    {
     "data": {
      "text/plain": [
       "['red']"
      ]
     },
     "execution_count": 41,
     "metadata": {},
     "output_type": "execute_result"
    }
   ],
   "source": [
    "def color(x):\n",
    "    color = []\n",
    "    for i in x:\n",
    "        if type(i) == str and i != 'fish':\n",
    "            color.append(i)\n",
    "        else:\n",
    "            pass\n",
    "    return color\n",
    "\n",
    "color(x)"
   ]
  },
  {
   "cell_type": "markdown",
   "metadata": {},
   "source": [
    "We can also use \"in\" as an operator:"
   ]
  },
  {
   "cell_type": "code",
   "execution_count": 42,
   "metadata": {},
   "outputs": [
    {
     "name": "stdout",
     "output_type": "stream",
     "text": [
      "Nice\n"
     ]
    }
   ],
   "source": [
    "if 'fish' in x and 2 in comp:\n",
    "    print('Nice')"
   ]
  },
  {
   "cell_type": "markdown",
   "metadata": {},
   "source": [
    "# Chapter 4 - Python Essentials "
   ]
  },
  {
   "cell_type": "markdown",
   "metadata": {},
   "source": [
    "We've already touched on some of these topics, so I'll skip over some things. "
   ]
  },
  {
   "cell_type": "markdown",
   "metadata": {},
   "source": [
    "There are a few types of primitive data:\n",
    "- String: Words\n",
    "- Integer: Numbers with no decimals\n",
    "- Float: Numbers with decimals \n",
    "- Boolean: T/F\n"
   ]
  },
  {
   "cell_type": "markdown",
   "metadata": {},
   "source": [
    "With Boolean variables you can do Boolean algebra, if you'd like. Some basic Boolean things:"
   ]
  },
  {
   "cell_type": "code",
   "execution_count": 43,
   "metadata": {},
   "outputs": [
    {
     "data": {
      "text/plain": [
       "True"
      ]
     },
     "execution_count": 43,
     "metadata": {},
     "output_type": "execute_result"
    }
   ],
   "source": [
    "x = 1\n",
    "y = 2\n",
    "\n",
    "x < y"
   ]
  },
  {
   "cell_type": "code",
   "execution_count": 44,
   "metadata": {},
   "outputs": [
    {
     "data": {
      "text/plain": [
       "False"
      ]
     },
     "execution_count": 44,
     "metadata": {},
     "output_type": "execute_result"
    }
   ],
   "source": [
    "x > y"
   ]
  },
  {
   "cell_type": "code",
   "execution_count": 45,
   "metadata": {},
   "outputs": [
    {
     "data": {
      "text/plain": [
       "False"
      ]
     },
     "execution_count": 45,
     "metadata": {},
     "output_type": "execute_result"
    }
   ],
   "source": [
    "x == 2"
   ]
  },
  {
   "cell_type": "code",
   "execution_count": 46,
   "metadata": {},
   "outputs": [
    {
     "data": {
      "text/plain": [
       "True"
      ]
     },
     "execution_count": 46,
     "metadata": {},
     "output_type": "execute_result"
    }
   ],
   "source": [
    "x != 3"
   ]
  },
  {
   "cell_type": "markdown",
   "metadata": {},
   "source": [
    "Along with lists, there are containers called *tuples*. Tuples are just lists that are \"immutable\", that is, you cannot change them:"
   ]
  },
  {
   "cell_type": "code",
   "execution_count": 51,
   "metadata": {},
   "outputs": [
    {
     "data": {
      "text/plain": [
       "tuple"
      ]
     },
     "execution_count": 51,
     "metadata": {},
     "output_type": "execute_result"
    }
   ],
   "source": [
    "lis = [1,2]\n",
    "tup = ('1','2')\n",
    "tup2 = (1,2)\n",
    "\n",
    "lis[0] = 5\n",
    "lis\n",
    "type(tup2)"
   ]
  },
  {
   "cell_type": "code",
   "execution_count": 50,
   "metadata": {},
   "outputs": [
    {
     "ename": "TypeError",
     "evalue": "'tuple' object does not support item assignment",
     "output_type": "error",
     "traceback": [
      "\u001b[1;31m---------------------------------------------------------------------------\u001b[0m",
      "\u001b[1;31mTypeError\u001b[0m                                 Traceback (most recent call last)",
      "\u001b[1;32m<ipython-input-50-2636587b4c5c>\u001b[0m in \u001b[0;36m<module>\u001b[1;34m\u001b[0m\n\u001b[1;32m----> 1\u001b[1;33m \u001b[0mtup2\u001b[0m\u001b[1;33m[\u001b[0m\u001b[1;36m0\u001b[0m\u001b[1;33m]\u001b[0m \u001b[1;33m=\u001b[0m \u001b[1;36m5\u001b[0m\u001b[1;33m\u001b[0m\u001b[1;33m\u001b[0m\u001b[0m\n\u001b[0m\u001b[0;32m      2\u001b[0m \u001b[0mtup2\u001b[0m\u001b[1;33m\u001b[0m\u001b[1;33m\u001b[0m\u001b[0m\n",
      "\u001b[1;31mTypeError\u001b[0m: 'tuple' object does not support item assignment"
     ]
    }
   ],
   "source": [
    "tup2[0] = 5\n",
    "tup2"
   ]
  },
  {
   "cell_type": "markdown",
   "metadata": {},
   "source": [
    "You can use *slice* notation to finish lists:"
   ]
  },
  {
   "cell_type": "code",
   "execution_count": 54,
   "metadata": {},
   "outputs": [
    {
     "name": "stdout",
     "output_type": "stream",
     "text": [
      "[1, 'fish', 2, 'fish', 'red', 'fish', True, 'fish']\n",
      "['fish', 'red']\n",
      "[2, 'fish', 'red', 'fish', True, 'fish']\n",
      "[1, 'fish', 2, 'fish']\n",
      "[True, 'fish']\n"
     ]
    }
   ],
   "source": [
    "print(x)\n",
    "print(x[3:5])\n",
    "print(x[2:])\n",
    "print(x[:4])\n",
    "print(x[-2:])"
   ]
  },
  {
   "cell_type": "markdown",
   "metadata": {},
   "source": [
    "Another type of container is a dictionary. Dictionaries are like a list, but instead of indexing by a number, you index by a string. That string is called a *key*."
   ]
  },
  {
   "cell_type": "code",
   "execution_count": 55,
   "metadata": {},
   "outputs": [
    {
     "data": {
      "text/plain": [
       "'3pm'"
      ]
     },
     "execution_count": 55,
     "metadata": {},
     "output_type": "execute_result"
    }
   ],
   "source": [
    "best_film_franchise = {'Name': 'Star Wars', 'Time': '3pm', 'Location': 'DeLoach'}\n",
    "best_film_franchise['Time']"
   ]
  },
  {
   "cell_type": "markdown",
   "metadata": {},
   "source": [
    "We also have a container called a *set*. These are collections of objects that do not repeat. You can do set operations with them. "
   ]
  },
  {
   "cell_type": "code",
   "execution_count": 56,
   "metadata": {},
   "outputs": [
    {
     "data": {
      "text/plain": [
       "{'a', 'b'}"
      ]
     },
     "execution_count": 56,
     "metadata": {},
     "output_type": "execute_result"
    }
   ],
   "source": [
    "sett = {'a', 'b', 'b'}\n",
    "sett"
   ]
  },
  {
   "cell_type": "markdown",
   "metadata": {},
   "source": [
    "Lastly, some helpful functions:"
   ]
  },
  {
   "cell_type": "code",
   "execution_count": 57,
   "metadata": {},
   "outputs": [
    {
     "data": {
      "text/plain": [
       "100"
      ]
     },
     "execution_count": 57,
     "metadata": {},
     "output_type": "execute_result"
    }
   ],
   "source": [
    "max(1,2,3,4,100,5,6)"
   ]
  },
  {
   "cell_type": "code",
   "execution_count": 58,
   "metadata": {},
   "outputs": [
    {
     "data": {
      "text/plain": [
       "[0, 1, 2, 3, 4, 5, 6]"
      ]
     },
     "execution_count": 58,
     "metadata": {},
     "output_type": "execute_result"
    }
   ],
   "source": [
    "list(range(7))"
   ]
  },
  {
   "cell_type": "markdown",
   "metadata": {},
   "source": [
    "The command all sees if a list of Boolean statements are all True. The command any() sees if any statement out of a list is true."
   ]
  },
  {
   "cell_type": "code",
   "execution_count": 59,
   "metadata": {},
   "outputs": [
    {
     "data": {
      "text/plain": [
       "False"
      ]
     },
     "execution_count": 59,
     "metadata": {},
     "output_type": "execute_result"
    }
   ],
   "source": [
    "x=1\n",
    "y=2\n",
    "True_1 = x<y\n",
    "True_2 = x != y\n",
    "False_1 = x > y\n",
    "statements = (True_1, True_2, False_1)\n",
    "all(statements)"
   ]
  },
  {
   "cell_type": "code",
   "execution_count": 60,
   "metadata": {},
   "outputs": [
    {
     "data": {
      "text/plain": [
       "True"
      ]
     },
     "execution_count": 60,
     "metadata": {},
     "output_type": "execute_result"
    }
   ],
   "source": [
    "any(statements)"
   ]
  },
  {
   "cell_type": "markdown",
   "metadata": {},
   "source": [
    "In-line functions are a kind of confusing topic. Before, we named functions, like \"separator\". What if we didn't want to name the function? We just wanted to do it in-line? We could then use an anonymous function:"
   ]
  },
  {
   "cell_type": "code",
   "execution_count": 61,
   "metadata": {},
   "outputs": [
    {
     "data": {
      "text/plain": [
       "1"
      ]
     },
     "execution_count": 61,
     "metadata": {},
     "output_type": "execute_result"
    }
   ],
   "source": [
    "x**2"
   ]
  },
  {
   "cell_type": "code",
   "execution_count": 62,
   "metadata": {},
   "outputs": [],
   "source": [
    "import scipy.integrate as sp\n",
    "sp.quad?"
   ]
  },
  {
   "cell_type": "code",
   "execution_count": 63,
   "metadata": {},
   "outputs": [
    {
     "ename": "ValueError",
     "evalue": "invalid callable given",
     "output_type": "error",
     "traceback": [
      "\u001b[1;31m---------------------------------------------------------------------------\u001b[0m",
      "\u001b[1;31mValueError\u001b[0m                                Traceback (most recent call last)",
      "\u001b[1;32m<ipython-input-63-e9121b86114a>\u001b[0m in \u001b[0;36m<module>\u001b[1;34m\u001b[0m\n\u001b[1;32m----> 1\u001b[1;33m \u001b[0msp\u001b[0m\u001b[1;33m.\u001b[0m\u001b[0mquad\u001b[0m\u001b[1;33m(\u001b[0m\u001b[0mx\u001b[0m\u001b[1;33m**\u001b[0m\u001b[1;36m3\u001b[0m\u001b[1;33m,\u001b[0m \u001b[1;36m0\u001b[0m\u001b[1;33m,\u001b[0m\u001b[1;36m2\u001b[0m\u001b[1;33m)\u001b[0m\u001b[1;33m\u001b[0m\u001b[1;33m\u001b[0m\u001b[0m\n\u001b[0m",
      "\u001b[1;32m~\\Anaconda3\\lib\\site-packages\\scipy\\integrate\\quadpack.py\u001b[0m in \u001b[0;36mquad\u001b[1;34m(func, a, b, args, full_output, epsabs, epsrel, limit, points, weight, wvar, wopts, maxp1, limlst)\u001b[0m\n\u001b[0;32m    339\u001b[0m     \u001b[1;32mif\u001b[0m \u001b[0mweight\u001b[0m \u001b[1;32mis\u001b[0m \u001b[1;32mNone\u001b[0m\u001b[1;33m:\u001b[0m\u001b[1;33m\u001b[0m\u001b[1;33m\u001b[0m\u001b[0m\n\u001b[0;32m    340\u001b[0m         retval = _quad(func, a, b, args, full_output, epsabs, epsrel, limit,\n\u001b[1;32m--> 341\u001b[1;33m                        points)\n\u001b[0m\u001b[0;32m    342\u001b[0m     \u001b[1;32melse\u001b[0m\u001b[1;33m:\u001b[0m\u001b[1;33m\u001b[0m\u001b[1;33m\u001b[0m\u001b[0m\n\u001b[0;32m    343\u001b[0m         retval = _quad_weight(func, a, b, args, full_output, epsabs, epsrel,\n",
      "\u001b[1;32m~\\Anaconda3\\lib\\site-packages\\scipy\\integrate\\quadpack.py\u001b[0m in \u001b[0;36m_quad\u001b[1;34m(func, a, b, args, full_output, epsabs, epsrel, limit, points)\u001b[0m\n\u001b[0;32m    446\u001b[0m     \u001b[1;32mif\u001b[0m \u001b[0mpoints\u001b[0m \u001b[1;32mis\u001b[0m \u001b[1;32mNone\u001b[0m\u001b[1;33m:\u001b[0m\u001b[1;33m\u001b[0m\u001b[1;33m\u001b[0m\u001b[0m\n\u001b[0;32m    447\u001b[0m         \u001b[1;32mif\u001b[0m \u001b[0minfbounds\u001b[0m \u001b[1;33m==\u001b[0m \u001b[1;36m0\u001b[0m\u001b[1;33m:\u001b[0m\u001b[1;33m\u001b[0m\u001b[1;33m\u001b[0m\u001b[0m\n\u001b[1;32m--> 448\u001b[1;33m             \u001b[1;32mreturn\u001b[0m \u001b[0m_quadpack\u001b[0m\u001b[1;33m.\u001b[0m\u001b[0m_qagse\u001b[0m\u001b[1;33m(\u001b[0m\u001b[0mfunc\u001b[0m\u001b[1;33m,\u001b[0m\u001b[0ma\u001b[0m\u001b[1;33m,\u001b[0m\u001b[0mb\u001b[0m\u001b[1;33m,\u001b[0m\u001b[0margs\u001b[0m\u001b[1;33m,\u001b[0m\u001b[0mfull_output\u001b[0m\u001b[1;33m,\u001b[0m\u001b[0mepsabs\u001b[0m\u001b[1;33m,\u001b[0m\u001b[0mepsrel\u001b[0m\u001b[1;33m,\u001b[0m\u001b[0mlimit\u001b[0m\u001b[1;33m)\u001b[0m\u001b[1;33m\u001b[0m\u001b[1;33m\u001b[0m\u001b[0m\n\u001b[0m\u001b[0;32m    449\u001b[0m         \u001b[1;32melse\u001b[0m\u001b[1;33m:\u001b[0m\u001b[1;33m\u001b[0m\u001b[1;33m\u001b[0m\u001b[0m\n\u001b[0;32m    450\u001b[0m             \u001b[1;32mreturn\u001b[0m \u001b[0m_quadpack\u001b[0m\u001b[1;33m.\u001b[0m\u001b[0m_qagie\u001b[0m\u001b[1;33m(\u001b[0m\u001b[0mfunc\u001b[0m\u001b[1;33m,\u001b[0m\u001b[0mbound\u001b[0m\u001b[1;33m,\u001b[0m\u001b[0minfbounds\u001b[0m\u001b[1;33m,\u001b[0m\u001b[0margs\u001b[0m\u001b[1;33m,\u001b[0m\u001b[0mfull_output\u001b[0m\u001b[1;33m,\u001b[0m\u001b[0mepsabs\u001b[0m\u001b[1;33m,\u001b[0m\u001b[0mepsrel\u001b[0m\u001b[1;33m,\u001b[0m\u001b[0mlimit\u001b[0m\u001b[1;33m)\u001b[0m\u001b[1;33m\u001b[0m\u001b[1;33m\u001b[0m\u001b[0m\n",
      "\u001b[1;31mValueError\u001b[0m: invalid callable given"
     ]
    }
   ],
   "source": [
    "sp.quad(x**3, 0,2)"
   ]
  },
  {
   "cell_type": "code",
   "execution_count": 64,
   "metadata": {},
   "outputs": [
    {
     "data": {
      "text/plain": [
       "(4.0, 4.440892098500626e-14)"
      ]
     },
     "execution_count": 64,
     "metadata": {},
     "output_type": "execute_result"
    }
   ],
   "source": [
    "sp.quad(lambda x: x**3,0,2)"
   ]
  },
  {
   "cell_type": "markdown",
   "metadata": {},
   "source": [
    "# Next week?"
   ]
  },
  {
   "cell_type": "markdown",
   "metadata": {},
   "source": [
    "Probably be good to read the chapters on:\n",
    "- Numpy\n",
    "- Matplotlib\n",
    "- Scipy\n",
    "- Pandas\n",
    "\n",
    "Maybe do the exercises for the Pandas section as its probably the most relevant package? What do we think?  "
   ]
  },
  {
   "cell_type": "code",
   "execution_count": null,
   "metadata": {},
   "outputs": [],
   "source": []
  }
 ],
 "metadata": {
  "kernelspec": {
   "display_name": "Python 3",
   "language": "python",
   "name": "python3"
  },
  "language_info": {
   "codemirror_mode": {
    "name": "ipython",
    "version": 3
   },
   "file_extension": ".py",
   "mimetype": "text/x-python",
   "name": "python",
   "nbconvert_exporter": "python",
   "pygments_lexer": "ipython3",
   "version": "3.7.3"
  }
 },
 "nbformat": 4,
 "nbformat_minor": 2
}
